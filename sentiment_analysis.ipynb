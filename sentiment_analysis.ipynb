{
  "nbformat": 4,
  "nbformat_minor": 0,
  "metadata": {
    "kernelspec": {
      "display_name": "Python 3",
      "language": "python",
      "name": "python3"
    },
    "language_info": {
      "codemirror_mode": {
        "name": "ipython",
        "version": 3
      },
      "file_extension": ".py",
      "mimetype": "text/x-python",
      "name": "python",
      "nbconvert_exporter": "python",
      "pygments_lexer": "ipython3",
      "version": "3.7.6"
    },
    "colab": {
      "name": "sentiment_analysis.ipynb",
      "provenance": [],
      "collapsed_sections": [],
      "machine_shape": "hm"
    },
    "accelerator": "GPU",
    "widgets": {
      "application/vnd.jupyter.widget-state+json": {
        "11202b8347f74ecd9fd6f945baaa86c7": {
          "model_module": "@jupyter-widgets/controls",
          "model_name": "HBoxModel",
          "state": {
            "_view_name": "HBoxView",
            "_dom_classes": [],
            "_model_name": "HBoxModel",
            "_view_module": "@jupyter-widgets/controls",
            "_model_module_version": "1.5.0",
            "_view_count": null,
            "_view_module_version": "1.5.0",
            "box_style": "",
            "layout": "IPY_MODEL_077a3d6a5bfc43539c9504012c2218b2",
            "_model_module": "@jupyter-widgets/controls",
            "children": [
              "IPY_MODEL_45cdd703b2b440abad467981af34f27e",
              "IPY_MODEL_6e578b53291246a9b9b6965da56b0685"
            ]
          }
        },
        "077a3d6a5bfc43539c9504012c2218b2": {
          "model_module": "@jupyter-widgets/base",
          "model_name": "LayoutModel",
          "state": {
            "_view_name": "LayoutView",
            "grid_template_rows": null,
            "right": null,
            "justify_content": null,
            "_view_module": "@jupyter-widgets/base",
            "overflow": null,
            "_model_module_version": "1.2.0",
            "_view_count": null,
            "flex_flow": null,
            "width": null,
            "min_width": null,
            "border": null,
            "align_items": null,
            "bottom": null,
            "_model_module": "@jupyter-widgets/base",
            "top": null,
            "grid_column": null,
            "overflow_y": null,
            "overflow_x": null,
            "grid_auto_flow": null,
            "grid_area": null,
            "grid_template_columns": null,
            "flex": null,
            "_model_name": "LayoutModel",
            "justify_items": null,
            "grid_row": null,
            "max_height": null,
            "align_content": null,
            "visibility": null,
            "align_self": null,
            "height": null,
            "min_height": null,
            "padding": null,
            "grid_auto_rows": null,
            "grid_gap": null,
            "max_width": null,
            "order": null,
            "_view_module_version": "1.2.0",
            "grid_template_areas": null,
            "object_position": null,
            "object_fit": null,
            "grid_auto_columns": null,
            "margin": null,
            "display": null,
            "left": null
          }
        },
        "45cdd703b2b440abad467981af34f27e": {
          "model_module": "@jupyter-widgets/controls",
          "model_name": "FloatProgressModel",
          "state": {
            "_view_name": "ProgressView",
            "style": "IPY_MODEL_7211b43a70c341249ba290ee94231eef",
            "_dom_classes": [],
            "description": "Downloading: 100%",
            "_model_name": "FloatProgressModel",
            "bar_style": "success",
            "max": 231508,
            "_view_module": "@jupyter-widgets/controls",
            "_model_module_version": "1.5.0",
            "value": 231508,
            "_view_count": null,
            "_view_module_version": "1.5.0",
            "orientation": "horizontal",
            "min": 0,
            "description_tooltip": null,
            "_model_module": "@jupyter-widgets/controls",
            "layout": "IPY_MODEL_9fedc79752b24832a23232fa66c7959b"
          }
        },
        "6e578b53291246a9b9b6965da56b0685": {
          "model_module": "@jupyter-widgets/controls",
          "model_name": "HTMLModel",
          "state": {
            "_view_name": "HTMLView",
            "style": "IPY_MODEL_e0563cdb9d0b4d4ea1a142104fbdc94b",
            "_dom_classes": [],
            "description": "",
            "_model_name": "HTMLModel",
            "placeholder": "​",
            "_view_module": "@jupyter-widgets/controls",
            "_model_module_version": "1.5.0",
            "value": " 232k/232k [00:00&lt;00:00, 1.60MB/s]",
            "_view_count": null,
            "_view_module_version": "1.5.0",
            "description_tooltip": null,
            "_model_module": "@jupyter-widgets/controls",
            "layout": "IPY_MODEL_50355f0a8d924fefad28eeeb46ec16d6"
          }
        },
        "7211b43a70c341249ba290ee94231eef": {
          "model_module": "@jupyter-widgets/controls",
          "model_name": "ProgressStyleModel",
          "state": {
            "_view_name": "StyleView",
            "_model_name": "ProgressStyleModel",
            "description_width": "initial",
            "_view_module": "@jupyter-widgets/base",
            "_model_module_version": "1.5.0",
            "_view_count": null,
            "_view_module_version": "1.2.0",
            "bar_color": null,
            "_model_module": "@jupyter-widgets/controls"
          }
        },
        "9fedc79752b24832a23232fa66c7959b": {
          "model_module": "@jupyter-widgets/base",
          "model_name": "LayoutModel",
          "state": {
            "_view_name": "LayoutView",
            "grid_template_rows": null,
            "right": null,
            "justify_content": null,
            "_view_module": "@jupyter-widgets/base",
            "overflow": null,
            "_model_module_version": "1.2.0",
            "_view_count": null,
            "flex_flow": null,
            "width": null,
            "min_width": null,
            "border": null,
            "align_items": null,
            "bottom": null,
            "_model_module": "@jupyter-widgets/base",
            "top": null,
            "grid_column": null,
            "overflow_y": null,
            "overflow_x": null,
            "grid_auto_flow": null,
            "grid_area": null,
            "grid_template_columns": null,
            "flex": null,
            "_model_name": "LayoutModel",
            "justify_items": null,
            "grid_row": null,
            "max_height": null,
            "align_content": null,
            "visibility": null,
            "align_self": null,
            "height": null,
            "min_height": null,
            "padding": null,
            "grid_auto_rows": null,
            "grid_gap": null,
            "max_width": null,
            "order": null,
            "_view_module_version": "1.2.0",
            "grid_template_areas": null,
            "object_position": null,
            "object_fit": null,
            "grid_auto_columns": null,
            "margin": null,
            "display": null,
            "left": null
          }
        },
        "e0563cdb9d0b4d4ea1a142104fbdc94b": {
          "model_module": "@jupyter-widgets/controls",
          "model_name": "DescriptionStyleModel",
          "state": {
            "_view_name": "StyleView",
            "_model_name": "DescriptionStyleModel",
            "description_width": "",
            "_view_module": "@jupyter-widgets/base",
            "_model_module_version": "1.5.0",
            "_view_count": null,
            "_view_module_version": "1.2.0",
            "_model_module": "@jupyter-widgets/controls"
          }
        },
        "50355f0a8d924fefad28eeeb46ec16d6": {
          "model_module": "@jupyter-widgets/base",
          "model_name": "LayoutModel",
          "state": {
            "_view_name": "LayoutView",
            "grid_template_rows": null,
            "right": null,
            "justify_content": null,
            "_view_module": "@jupyter-widgets/base",
            "overflow": null,
            "_model_module_version": "1.2.0",
            "_view_count": null,
            "flex_flow": null,
            "width": null,
            "min_width": null,
            "border": null,
            "align_items": null,
            "bottom": null,
            "_model_module": "@jupyter-widgets/base",
            "top": null,
            "grid_column": null,
            "overflow_y": null,
            "overflow_x": null,
            "grid_auto_flow": null,
            "grid_area": null,
            "grid_template_columns": null,
            "flex": null,
            "_model_name": "LayoutModel",
            "justify_items": null,
            "grid_row": null,
            "max_height": null,
            "align_content": null,
            "visibility": null,
            "align_self": null,
            "height": null,
            "min_height": null,
            "padding": null,
            "grid_auto_rows": null,
            "grid_gap": null,
            "max_width": null,
            "order": null,
            "_view_module_version": "1.2.0",
            "grid_template_areas": null,
            "object_position": null,
            "object_fit": null,
            "grid_auto_columns": null,
            "margin": null,
            "display": null,
            "left": null
          }
        },
        "4eef7f8a3d1f48679b7082f341c5318a": {
          "model_module": "@jupyter-widgets/controls",
          "model_name": "HBoxModel",
          "state": {
            "_view_name": "HBoxView",
            "_dom_classes": [],
            "_model_name": "HBoxModel",
            "_view_module": "@jupyter-widgets/controls",
            "_model_module_version": "1.5.0",
            "_view_count": null,
            "_view_module_version": "1.5.0",
            "box_style": "",
            "layout": "IPY_MODEL_1c6804c496064e098b7bc2d1c73ebe80",
            "_model_module": "@jupyter-widgets/controls",
            "children": [
              "IPY_MODEL_f29678d33cbd443db35137b5220d751c",
              "IPY_MODEL_a0e0071d8c8c4b1ea7c0d4a5e1d73229"
            ]
          }
        },
        "1c6804c496064e098b7bc2d1c73ebe80": {
          "model_module": "@jupyter-widgets/base",
          "model_name": "LayoutModel",
          "state": {
            "_view_name": "LayoutView",
            "grid_template_rows": null,
            "right": null,
            "justify_content": null,
            "_view_module": "@jupyter-widgets/base",
            "overflow": null,
            "_model_module_version": "1.2.0",
            "_view_count": null,
            "flex_flow": null,
            "width": null,
            "min_width": null,
            "border": null,
            "align_items": null,
            "bottom": null,
            "_model_module": "@jupyter-widgets/base",
            "top": null,
            "grid_column": null,
            "overflow_y": null,
            "overflow_x": null,
            "grid_auto_flow": null,
            "grid_area": null,
            "grid_template_columns": null,
            "flex": null,
            "_model_name": "LayoutModel",
            "justify_items": null,
            "grid_row": null,
            "max_height": null,
            "align_content": null,
            "visibility": null,
            "align_self": null,
            "height": null,
            "min_height": null,
            "padding": null,
            "grid_auto_rows": null,
            "grid_gap": null,
            "max_width": null,
            "order": null,
            "_view_module_version": "1.2.0",
            "grid_template_areas": null,
            "object_position": null,
            "object_fit": null,
            "grid_auto_columns": null,
            "margin": null,
            "display": null,
            "left": null
          }
        },
        "f29678d33cbd443db35137b5220d751c": {
          "model_module": "@jupyter-widgets/controls",
          "model_name": "FloatProgressModel",
          "state": {
            "_view_name": "ProgressView",
            "style": "IPY_MODEL_714bd0ed389e423593c2d5c29e02a174",
            "_dom_classes": [],
            "description": "Downloading: 100%",
            "_model_name": "FloatProgressModel",
            "bar_style": "success",
            "max": 442,
            "_view_module": "@jupyter-widgets/controls",
            "_model_module_version": "1.5.0",
            "value": 442,
            "_view_count": null,
            "_view_module_version": "1.5.0",
            "orientation": "horizontal",
            "min": 0,
            "description_tooltip": null,
            "_model_module": "@jupyter-widgets/controls",
            "layout": "IPY_MODEL_26cc8e634d8446cea31db6908e85469a"
          }
        },
        "a0e0071d8c8c4b1ea7c0d4a5e1d73229": {
          "model_module": "@jupyter-widgets/controls",
          "model_name": "HTMLModel",
          "state": {
            "_view_name": "HTMLView",
            "style": "IPY_MODEL_10cdc44220a44b63a1f7f4d323e6f1c1",
            "_dom_classes": [],
            "description": "",
            "_model_name": "HTMLModel",
            "placeholder": "​",
            "_view_module": "@jupyter-widgets/controls",
            "_model_module_version": "1.5.0",
            "value": " 442/442 [00:06&lt;00:00, 65.6B/s]",
            "_view_count": null,
            "_view_module_version": "1.5.0",
            "description_tooltip": null,
            "_model_module": "@jupyter-widgets/controls",
            "layout": "IPY_MODEL_b177e6798a9e4f4fbaf1805199ca70ed"
          }
        },
        "714bd0ed389e423593c2d5c29e02a174": {
          "model_module": "@jupyter-widgets/controls",
          "model_name": "ProgressStyleModel",
          "state": {
            "_view_name": "StyleView",
            "_model_name": "ProgressStyleModel",
            "description_width": "initial",
            "_view_module": "@jupyter-widgets/base",
            "_model_module_version": "1.5.0",
            "_view_count": null,
            "_view_module_version": "1.2.0",
            "bar_color": null,
            "_model_module": "@jupyter-widgets/controls"
          }
        },
        "26cc8e634d8446cea31db6908e85469a": {
          "model_module": "@jupyter-widgets/base",
          "model_name": "LayoutModel",
          "state": {
            "_view_name": "LayoutView",
            "grid_template_rows": null,
            "right": null,
            "justify_content": null,
            "_view_module": "@jupyter-widgets/base",
            "overflow": null,
            "_model_module_version": "1.2.0",
            "_view_count": null,
            "flex_flow": null,
            "width": null,
            "min_width": null,
            "border": null,
            "align_items": null,
            "bottom": null,
            "_model_module": "@jupyter-widgets/base",
            "top": null,
            "grid_column": null,
            "overflow_y": null,
            "overflow_x": null,
            "grid_auto_flow": null,
            "grid_area": null,
            "grid_template_columns": null,
            "flex": null,
            "_model_name": "LayoutModel",
            "justify_items": null,
            "grid_row": null,
            "max_height": null,
            "align_content": null,
            "visibility": null,
            "align_self": null,
            "height": null,
            "min_height": null,
            "padding": null,
            "grid_auto_rows": null,
            "grid_gap": null,
            "max_width": null,
            "order": null,
            "_view_module_version": "1.2.0",
            "grid_template_areas": null,
            "object_position": null,
            "object_fit": null,
            "grid_auto_columns": null,
            "margin": null,
            "display": null,
            "left": null
          }
        },
        "10cdc44220a44b63a1f7f4d323e6f1c1": {
          "model_module": "@jupyter-widgets/controls",
          "model_name": "DescriptionStyleModel",
          "state": {
            "_view_name": "StyleView",
            "_model_name": "DescriptionStyleModel",
            "description_width": "",
            "_view_module": "@jupyter-widgets/base",
            "_model_module_version": "1.5.0",
            "_view_count": null,
            "_view_module_version": "1.2.0",
            "_model_module": "@jupyter-widgets/controls"
          }
        },
        "b177e6798a9e4f4fbaf1805199ca70ed": {
          "model_module": "@jupyter-widgets/base",
          "model_name": "LayoutModel",
          "state": {
            "_view_name": "LayoutView",
            "grid_template_rows": null,
            "right": null,
            "justify_content": null,
            "_view_module": "@jupyter-widgets/base",
            "overflow": null,
            "_model_module_version": "1.2.0",
            "_view_count": null,
            "flex_flow": null,
            "width": null,
            "min_width": null,
            "border": null,
            "align_items": null,
            "bottom": null,
            "_model_module": "@jupyter-widgets/base",
            "top": null,
            "grid_column": null,
            "overflow_y": null,
            "overflow_x": null,
            "grid_auto_flow": null,
            "grid_area": null,
            "grid_template_columns": null,
            "flex": null,
            "_model_name": "LayoutModel",
            "justify_items": null,
            "grid_row": null,
            "max_height": null,
            "align_content": null,
            "visibility": null,
            "align_self": null,
            "height": null,
            "min_height": null,
            "padding": null,
            "grid_auto_rows": null,
            "grid_gap": null,
            "max_width": null,
            "order": null,
            "_view_module_version": "1.2.0",
            "grid_template_areas": null,
            "object_position": null,
            "object_fit": null,
            "grid_auto_columns": null,
            "margin": null,
            "display": null,
            "left": null
          }
        },
        "eba3f818aadc4283a00e3581b57ef52e": {
          "model_module": "@jupyter-widgets/controls",
          "model_name": "HBoxModel",
          "state": {
            "_view_name": "HBoxView",
            "_dom_classes": [],
            "_model_name": "HBoxModel",
            "_view_module": "@jupyter-widgets/controls",
            "_model_module_version": "1.5.0",
            "_view_count": null,
            "_view_module_version": "1.5.0",
            "box_style": "",
            "layout": "IPY_MODEL_5e6171ad45ec455faf56d30e0285a1b5",
            "_model_module": "@jupyter-widgets/controls",
            "children": [
              "IPY_MODEL_9159718591134fce8f62ce4847b9ef62",
              "IPY_MODEL_05e0a61dff904310a3f0965a77757509"
            ]
          }
        },
        "5e6171ad45ec455faf56d30e0285a1b5": {
          "model_module": "@jupyter-widgets/base",
          "model_name": "LayoutModel",
          "state": {
            "_view_name": "LayoutView",
            "grid_template_rows": null,
            "right": null,
            "justify_content": null,
            "_view_module": "@jupyter-widgets/base",
            "overflow": null,
            "_model_module_version": "1.2.0",
            "_view_count": null,
            "flex_flow": null,
            "width": null,
            "min_width": null,
            "border": null,
            "align_items": null,
            "bottom": null,
            "_model_module": "@jupyter-widgets/base",
            "top": null,
            "grid_column": null,
            "overflow_y": null,
            "overflow_x": null,
            "grid_auto_flow": null,
            "grid_area": null,
            "grid_template_columns": null,
            "flex": null,
            "_model_name": "LayoutModel",
            "justify_items": null,
            "grid_row": null,
            "max_height": null,
            "align_content": null,
            "visibility": null,
            "align_self": null,
            "height": null,
            "min_height": null,
            "padding": null,
            "grid_auto_rows": null,
            "grid_gap": null,
            "max_width": null,
            "order": null,
            "_view_module_version": "1.2.0",
            "grid_template_areas": null,
            "object_position": null,
            "object_fit": null,
            "grid_auto_columns": null,
            "margin": null,
            "display": null,
            "left": null
          }
        },
        "9159718591134fce8f62ce4847b9ef62": {
          "model_module": "@jupyter-widgets/controls",
          "model_name": "FloatProgressModel",
          "state": {
            "_view_name": "ProgressView",
            "style": "IPY_MODEL_3803f7abecfb4954b58b17013bb4abea",
            "_dom_classes": [],
            "description": "Downloading: 100%",
            "_model_name": "FloatProgressModel",
            "bar_style": "success",
            "max": 267967963,
            "_view_module": "@jupyter-widgets/controls",
            "_model_module_version": "1.5.0",
            "value": 267967963,
            "_view_count": null,
            "_view_module_version": "1.5.0",
            "orientation": "horizontal",
            "min": 0,
            "description_tooltip": null,
            "_model_module": "@jupyter-widgets/controls",
            "layout": "IPY_MODEL_38ab4da2743e425ab6fe8b814b660f85"
          }
        },
        "05e0a61dff904310a3f0965a77757509": {
          "model_module": "@jupyter-widgets/controls",
          "model_name": "HTMLModel",
          "state": {
            "_view_name": "HTMLView",
            "style": "IPY_MODEL_9a1056b2c8f546e3a32b0d8aaf75d404",
            "_dom_classes": [],
            "description": "",
            "_model_name": "HTMLModel",
            "placeholder": "​",
            "_view_module": "@jupyter-widgets/controls",
            "_model_module_version": "1.5.0",
            "value": " 268M/268M [00:05&lt;00:00, 48.4MB/s]",
            "_view_count": null,
            "_view_module_version": "1.5.0",
            "description_tooltip": null,
            "_model_module": "@jupyter-widgets/controls",
            "layout": "IPY_MODEL_f7488393d501472ba1d692b6b10d07c7"
          }
        },
        "3803f7abecfb4954b58b17013bb4abea": {
          "model_module": "@jupyter-widgets/controls",
          "model_name": "ProgressStyleModel",
          "state": {
            "_view_name": "StyleView",
            "_model_name": "ProgressStyleModel",
            "description_width": "initial",
            "_view_module": "@jupyter-widgets/base",
            "_model_module_version": "1.5.0",
            "_view_count": null,
            "_view_module_version": "1.2.0",
            "bar_color": null,
            "_model_module": "@jupyter-widgets/controls"
          }
        },
        "38ab4da2743e425ab6fe8b814b660f85": {
          "model_module": "@jupyter-widgets/base",
          "model_name": "LayoutModel",
          "state": {
            "_view_name": "LayoutView",
            "grid_template_rows": null,
            "right": null,
            "justify_content": null,
            "_view_module": "@jupyter-widgets/base",
            "overflow": null,
            "_model_module_version": "1.2.0",
            "_view_count": null,
            "flex_flow": null,
            "width": null,
            "min_width": null,
            "border": null,
            "align_items": null,
            "bottom": null,
            "_model_module": "@jupyter-widgets/base",
            "top": null,
            "grid_column": null,
            "overflow_y": null,
            "overflow_x": null,
            "grid_auto_flow": null,
            "grid_area": null,
            "grid_template_columns": null,
            "flex": null,
            "_model_name": "LayoutModel",
            "justify_items": null,
            "grid_row": null,
            "max_height": null,
            "align_content": null,
            "visibility": null,
            "align_self": null,
            "height": null,
            "min_height": null,
            "padding": null,
            "grid_auto_rows": null,
            "grid_gap": null,
            "max_width": null,
            "order": null,
            "_view_module_version": "1.2.0",
            "grid_template_areas": null,
            "object_position": null,
            "object_fit": null,
            "grid_auto_columns": null,
            "margin": null,
            "display": null,
            "left": null
          }
        },
        "9a1056b2c8f546e3a32b0d8aaf75d404": {
          "model_module": "@jupyter-widgets/controls",
          "model_name": "DescriptionStyleModel",
          "state": {
            "_view_name": "StyleView",
            "_model_name": "DescriptionStyleModel",
            "description_width": "",
            "_view_module": "@jupyter-widgets/base",
            "_model_module_version": "1.5.0",
            "_view_count": null,
            "_view_module_version": "1.2.0",
            "_model_module": "@jupyter-widgets/controls"
          }
        },
        "f7488393d501472ba1d692b6b10d07c7": {
          "model_module": "@jupyter-widgets/base",
          "model_name": "LayoutModel",
          "state": {
            "_view_name": "LayoutView",
            "grid_template_rows": null,
            "right": null,
            "justify_content": null,
            "_view_module": "@jupyter-widgets/base",
            "overflow": null,
            "_model_module_version": "1.2.0",
            "_view_count": null,
            "flex_flow": null,
            "width": null,
            "min_width": null,
            "border": null,
            "align_items": null,
            "bottom": null,
            "_model_module": "@jupyter-widgets/base",
            "top": null,
            "grid_column": null,
            "overflow_y": null,
            "overflow_x": null,
            "grid_auto_flow": null,
            "grid_area": null,
            "grid_template_columns": null,
            "flex": null,
            "_model_name": "LayoutModel",
            "justify_items": null,
            "grid_row": null,
            "max_height": null,
            "align_content": null,
            "visibility": null,
            "align_self": null,
            "height": null,
            "min_height": null,
            "padding": null,
            "grid_auto_rows": null,
            "grid_gap": null,
            "max_width": null,
            "order": null,
            "_view_module_version": "1.2.0",
            "grid_template_areas": null,
            "object_position": null,
            "object_fit": null,
            "grid_auto_columns": null,
            "margin": null,
            "display": null,
            "left": null
          }
        },
        "979aa7a1c2a549ce8b2b485f0309124b": {
          "model_module": "@jupyter-widgets/controls",
          "model_name": "HBoxModel",
          "state": {
            "_view_name": "HBoxView",
            "_dom_classes": [],
            "_model_name": "HBoxModel",
            "_view_module": "@jupyter-widgets/controls",
            "_model_module_version": "1.5.0",
            "_view_count": null,
            "_view_module_version": "1.5.0",
            "box_style": "",
            "layout": "IPY_MODEL_3c04b92774a4476d816f70861fafa732",
            "_model_module": "@jupyter-widgets/controls",
            "children": [
              "IPY_MODEL_22257a4f97364722be86b4ed4092ad09",
              "IPY_MODEL_44534c2afaed499f8dff5ca4d222450e"
            ]
          }
        },
        "3c04b92774a4476d816f70861fafa732": {
          "model_module": "@jupyter-widgets/base",
          "model_name": "LayoutModel",
          "state": {
            "_view_name": "LayoutView",
            "grid_template_rows": null,
            "right": null,
            "justify_content": null,
            "_view_module": "@jupyter-widgets/base",
            "overflow": null,
            "_model_module_version": "1.2.0",
            "_view_count": null,
            "flex_flow": null,
            "width": null,
            "min_width": null,
            "border": null,
            "align_items": null,
            "bottom": null,
            "_model_module": "@jupyter-widgets/base",
            "top": null,
            "grid_column": null,
            "overflow_y": null,
            "overflow_x": null,
            "grid_auto_flow": null,
            "grid_area": null,
            "grid_template_columns": null,
            "flex": null,
            "_model_name": "LayoutModel",
            "justify_items": null,
            "grid_row": null,
            "max_height": null,
            "align_content": null,
            "visibility": null,
            "align_self": null,
            "height": null,
            "min_height": null,
            "padding": null,
            "grid_auto_rows": null,
            "grid_gap": null,
            "max_width": null,
            "order": null,
            "_view_module_version": "1.2.0",
            "grid_template_areas": null,
            "object_position": null,
            "object_fit": null,
            "grid_auto_columns": null,
            "margin": null,
            "display": null,
            "left": null
          }
        },
        "22257a4f97364722be86b4ed4092ad09": {
          "model_module": "@jupyter-widgets/controls",
          "model_name": "FloatProgressModel",
          "state": {
            "_view_name": "ProgressView",
            "style": "IPY_MODEL_95f01970509948a3939c28b9d09194b1",
            "_dom_classes": [],
            "description": "Downloading: 100%",
            "_model_name": "FloatProgressModel",
            "bar_style": "success",
            "max": 995526,
            "_view_module": "@jupyter-widgets/controls",
            "_model_module_version": "1.5.0",
            "value": 995526,
            "_view_count": null,
            "_view_module_version": "1.5.0",
            "orientation": "horizontal",
            "min": 0,
            "description_tooltip": null,
            "_model_module": "@jupyter-widgets/controls",
            "layout": "IPY_MODEL_7f565bcaa83142fe99509ca5dbfa23b2"
          }
        },
        "44534c2afaed499f8dff5ca4d222450e": {
          "model_module": "@jupyter-widgets/controls",
          "model_name": "HTMLModel",
          "state": {
            "_view_name": "HTMLView",
            "style": "IPY_MODEL_e8132a3bdd5841ec98fdc2bc6986292f",
            "_dom_classes": [],
            "description": "",
            "_model_name": "HTMLModel",
            "placeholder": "​",
            "_view_module": "@jupyter-widgets/controls",
            "_model_module_version": "1.5.0",
            "value": " 996k/996k [00:00&lt;00:00, 3.65MB/s]",
            "_view_count": null,
            "_view_module_version": "1.5.0",
            "description_tooltip": null,
            "_model_module": "@jupyter-widgets/controls",
            "layout": "IPY_MODEL_dcddf50d04ba411c89c6a5eeaed5f38d"
          }
        },
        "95f01970509948a3939c28b9d09194b1": {
          "model_module": "@jupyter-widgets/controls",
          "model_name": "ProgressStyleModel",
          "state": {
            "_view_name": "StyleView",
            "_model_name": "ProgressStyleModel",
            "description_width": "initial",
            "_view_module": "@jupyter-widgets/base",
            "_model_module_version": "1.5.0",
            "_view_count": null,
            "_view_module_version": "1.2.0",
            "bar_color": null,
            "_model_module": "@jupyter-widgets/controls"
          }
        },
        "7f565bcaa83142fe99509ca5dbfa23b2": {
          "model_module": "@jupyter-widgets/base",
          "model_name": "LayoutModel",
          "state": {
            "_view_name": "LayoutView",
            "grid_template_rows": null,
            "right": null,
            "justify_content": null,
            "_view_module": "@jupyter-widgets/base",
            "overflow": null,
            "_model_module_version": "1.2.0",
            "_view_count": null,
            "flex_flow": null,
            "width": null,
            "min_width": null,
            "border": null,
            "align_items": null,
            "bottom": null,
            "_model_module": "@jupyter-widgets/base",
            "top": null,
            "grid_column": null,
            "overflow_y": null,
            "overflow_x": null,
            "grid_auto_flow": null,
            "grid_area": null,
            "grid_template_columns": null,
            "flex": null,
            "_model_name": "LayoutModel",
            "justify_items": null,
            "grid_row": null,
            "max_height": null,
            "align_content": null,
            "visibility": null,
            "align_self": null,
            "height": null,
            "min_height": null,
            "padding": null,
            "grid_auto_rows": null,
            "grid_gap": null,
            "max_width": null,
            "order": null,
            "_view_module_version": "1.2.0",
            "grid_template_areas": null,
            "object_position": null,
            "object_fit": null,
            "grid_auto_columns": null,
            "margin": null,
            "display": null,
            "left": null
          }
        },
        "e8132a3bdd5841ec98fdc2bc6986292f": {
          "model_module": "@jupyter-widgets/controls",
          "model_name": "DescriptionStyleModel",
          "state": {
            "_view_name": "StyleView",
            "_model_name": "DescriptionStyleModel",
            "description_width": "",
            "_view_module": "@jupyter-widgets/base",
            "_model_module_version": "1.5.0",
            "_view_count": null,
            "_view_module_version": "1.2.0",
            "_model_module": "@jupyter-widgets/controls"
          }
        },
        "dcddf50d04ba411c89c6a5eeaed5f38d": {
          "model_module": "@jupyter-widgets/base",
          "model_name": "LayoutModel",
          "state": {
            "_view_name": "LayoutView",
            "grid_template_rows": null,
            "right": null,
            "justify_content": null,
            "_view_module": "@jupyter-widgets/base",
            "overflow": null,
            "_model_module_version": "1.2.0",
            "_view_count": null,
            "flex_flow": null,
            "width": null,
            "min_width": null,
            "border": null,
            "align_items": null,
            "bottom": null,
            "_model_module": "@jupyter-widgets/base",
            "top": null,
            "grid_column": null,
            "overflow_y": null,
            "overflow_x": null,
            "grid_auto_flow": null,
            "grid_area": null,
            "grid_template_columns": null,
            "flex": null,
            "_model_name": "LayoutModel",
            "justify_items": null,
            "grid_row": null,
            "max_height": null,
            "align_content": null,
            "visibility": null,
            "align_self": null,
            "height": null,
            "min_height": null,
            "padding": null,
            "grid_auto_rows": null,
            "grid_gap": null,
            "max_width": null,
            "order": null,
            "_view_module_version": "1.2.0",
            "grid_template_areas": null,
            "object_position": null,
            "object_fit": null,
            "grid_auto_columns": null,
            "margin": null,
            "display": null,
            "left": null
          }
        },
        "1621aab1fdf448819ba943e2b1270bf9": {
          "model_module": "@jupyter-widgets/controls",
          "model_name": "HBoxModel",
          "state": {
            "_view_name": "HBoxView",
            "_dom_classes": [],
            "_model_name": "HBoxModel",
            "_view_module": "@jupyter-widgets/controls",
            "_model_module_version": "1.5.0",
            "_view_count": null,
            "_view_module_version": "1.5.0",
            "box_style": "",
            "layout": "IPY_MODEL_80d4207272554491a235fb84a3907f02",
            "_model_module": "@jupyter-widgets/controls",
            "children": [
              "IPY_MODEL_256f0dfd4376471986906ef7d608e794",
              "IPY_MODEL_bef20cddce0f421984c19f431c572e0f"
            ]
          }
        },
        "80d4207272554491a235fb84a3907f02": {
          "model_module": "@jupyter-widgets/base",
          "model_name": "LayoutModel",
          "state": {
            "_view_name": "LayoutView",
            "grid_template_rows": null,
            "right": null,
            "justify_content": null,
            "_view_module": "@jupyter-widgets/base",
            "overflow": null,
            "_model_module_version": "1.2.0",
            "_view_count": null,
            "flex_flow": null,
            "width": null,
            "min_width": null,
            "border": null,
            "align_items": null,
            "bottom": null,
            "_model_module": "@jupyter-widgets/base",
            "top": null,
            "grid_column": null,
            "overflow_y": null,
            "overflow_x": null,
            "grid_auto_flow": null,
            "grid_area": null,
            "grid_template_columns": null,
            "flex": null,
            "_model_name": "LayoutModel",
            "justify_items": null,
            "grid_row": null,
            "max_height": null,
            "align_content": null,
            "visibility": null,
            "align_self": null,
            "height": null,
            "min_height": null,
            "padding": null,
            "grid_auto_rows": null,
            "grid_gap": null,
            "max_width": null,
            "order": null,
            "_view_module_version": "1.2.0",
            "grid_template_areas": null,
            "object_position": null,
            "object_fit": null,
            "grid_auto_columns": null,
            "margin": null,
            "display": null,
            "left": null
          }
        },
        "256f0dfd4376471986906ef7d608e794": {
          "model_module": "@jupyter-widgets/controls",
          "model_name": "FloatProgressModel",
          "state": {
            "_view_name": "ProgressView",
            "style": "IPY_MODEL_a253ccb3700a443cb1d1a93362c99ad8",
            "_dom_classes": [],
            "description": "Downloading: 100%",
            "_model_name": "FloatProgressModel",
            "bar_style": "success",
            "max": 466,
            "_view_module": "@jupyter-widgets/controls",
            "_model_module_version": "1.5.0",
            "value": 466,
            "_view_count": null,
            "_view_module_version": "1.5.0",
            "orientation": "horizontal",
            "min": 0,
            "description_tooltip": null,
            "_model_module": "@jupyter-widgets/controls",
            "layout": "IPY_MODEL_4a1ac36f5faf4713a0ce6c4f612cbd61"
          }
        },
        "bef20cddce0f421984c19f431c572e0f": {
          "model_module": "@jupyter-widgets/controls",
          "model_name": "HTMLModel",
          "state": {
            "_view_name": "HTMLView",
            "style": "IPY_MODEL_290e15839e7a42168c0fc6df7490644f",
            "_dom_classes": [],
            "description": "",
            "_model_name": "HTMLModel",
            "placeholder": "​",
            "_view_module": "@jupyter-widgets/controls",
            "_model_module_version": "1.5.0",
            "value": " 466/466 [00:11&lt;00:00, 41.3B/s]",
            "_view_count": null,
            "_view_module_version": "1.5.0",
            "description_tooltip": null,
            "_model_module": "@jupyter-widgets/controls",
            "layout": "IPY_MODEL_4defc16bf18048c9b70376420912c705"
          }
        },
        "a253ccb3700a443cb1d1a93362c99ad8": {
          "model_module": "@jupyter-widgets/controls",
          "model_name": "ProgressStyleModel",
          "state": {
            "_view_name": "StyleView",
            "_model_name": "ProgressStyleModel",
            "description_width": "initial",
            "_view_module": "@jupyter-widgets/base",
            "_model_module_version": "1.5.0",
            "_view_count": null,
            "_view_module_version": "1.2.0",
            "bar_color": null,
            "_model_module": "@jupyter-widgets/controls"
          }
        },
        "4a1ac36f5faf4713a0ce6c4f612cbd61": {
          "model_module": "@jupyter-widgets/base",
          "model_name": "LayoutModel",
          "state": {
            "_view_name": "LayoutView",
            "grid_template_rows": null,
            "right": null,
            "justify_content": null,
            "_view_module": "@jupyter-widgets/base",
            "overflow": null,
            "_model_module_version": "1.2.0",
            "_view_count": null,
            "flex_flow": null,
            "width": null,
            "min_width": null,
            "border": null,
            "align_items": null,
            "bottom": null,
            "_model_module": "@jupyter-widgets/base",
            "top": null,
            "grid_column": null,
            "overflow_y": null,
            "overflow_x": null,
            "grid_auto_flow": null,
            "grid_area": null,
            "grid_template_columns": null,
            "flex": null,
            "_model_name": "LayoutModel",
            "justify_items": null,
            "grid_row": null,
            "max_height": null,
            "align_content": null,
            "visibility": null,
            "align_self": null,
            "height": null,
            "min_height": null,
            "padding": null,
            "grid_auto_rows": null,
            "grid_gap": null,
            "max_width": null,
            "order": null,
            "_view_module_version": "1.2.0",
            "grid_template_areas": null,
            "object_position": null,
            "object_fit": null,
            "grid_auto_columns": null,
            "margin": null,
            "display": null,
            "left": null
          }
        },
        "290e15839e7a42168c0fc6df7490644f": {
          "model_module": "@jupyter-widgets/controls",
          "model_name": "DescriptionStyleModel",
          "state": {
            "_view_name": "StyleView",
            "_model_name": "DescriptionStyleModel",
            "description_width": "",
            "_view_module": "@jupyter-widgets/base",
            "_model_module_version": "1.5.0",
            "_view_count": null,
            "_view_module_version": "1.2.0",
            "_model_module": "@jupyter-widgets/controls"
          }
        },
        "4defc16bf18048c9b70376420912c705": {
          "model_module": "@jupyter-widgets/base",
          "model_name": "LayoutModel",
          "state": {
            "_view_name": "LayoutView",
            "grid_template_rows": null,
            "right": null,
            "justify_content": null,
            "_view_module": "@jupyter-widgets/base",
            "overflow": null,
            "_model_module_version": "1.2.0",
            "_view_count": null,
            "flex_flow": null,
            "width": null,
            "min_width": null,
            "border": null,
            "align_items": null,
            "bottom": null,
            "_model_module": "@jupyter-widgets/base",
            "top": null,
            "grid_column": null,
            "overflow_y": null,
            "overflow_x": null,
            "grid_auto_flow": null,
            "grid_area": null,
            "grid_template_columns": null,
            "flex": null,
            "_model_name": "LayoutModel",
            "justify_items": null,
            "grid_row": null,
            "max_height": null,
            "align_content": null,
            "visibility": null,
            "align_self": null,
            "height": null,
            "min_height": null,
            "padding": null,
            "grid_auto_rows": null,
            "grid_gap": null,
            "max_width": null,
            "order": null,
            "_view_module_version": "1.2.0",
            "grid_template_areas": null,
            "object_position": null,
            "object_fit": null,
            "grid_auto_columns": null,
            "margin": null,
            "display": null,
            "left": null
          }
        },
        "43a24730737b447ab86b5633e43482d4": {
          "model_module": "@jupyter-widgets/controls",
          "model_name": "HBoxModel",
          "state": {
            "_view_name": "HBoxView",
            "_dom_classes": [],
            "_model_name": "HBoxModel",
            "_view_module": "@jupyter-widgets/controls",
            "_model_module_version": "1.5.0",
            "_view_count": null,
            "_view_module_version": "1.5.0",
            "box_style": "",
            "layout": "IPY_MODEL_f7bf26ec5f8448cc879fbed8fa2d1560",
            "_model_module": "@jupyter-widgets/controls",
            "children": [
              "IPY_MODEL_4d2244f7495747fe87da1eda0972cedd",
              "IPY_MODEL_9f389463b4034b0d8fb8ce24907803fb"
            ]
          }
        },
        "f7bf26ec5f8448cc879fbed8fa2d1560": {
          "model_module": "@jupyter-widgets/base",
          "model_name": "LayoutModel",
          "state": {
            "_view_name": "LayoutView",
            "grid_template_rows": null,
            "right": null,
            "justify_content": null,
            "_view_module": "@jupyter-widgets/base",
            "overflow": null,
            "_model_module_version": "1.2.0",
            "_view_count": null,
            "flex_flow": null,
            "width": null,
            "min_width": null,
            "border": null,
            "align_items": null,
            "bottom": null,
            "_model_module": "@jupyter-widgets/base",
            "top": null,
            "grid_column": null,
            "overflow_y": null,
            "overflow_x": null,
            "grid_auto_flow": null,
            "grid_area": null,
            "grid_template_columns": null,
            "flex": null,
            "_model_name": "LayoutModel",
            "justify_items": null,
            "grid_row": null,
            "max_height": null,
            "align_content": null,
            "visibility": null,
            "align_self": null,
            "height": null,
            "min_height": null,
            "padding": null,
            "grid_auto_rows": null,
            "grid_gap": null,
            "max_width": null,
            "order": null,
            "_view_module_version": "1.2.0",
            "grid_template_areas": null,
            "object_position": null,
            "object_fit": null,
            "grid_auto_columns": null,
            "margin": null,
            "display": null,
            "left": null
          }
        },
        "4d2244f7495747fe87da1eda0972cedd": {
          "model_module": "@jupyter-widgets/controls",
          "model_name": "FloatProgressModel",
          "state": {
            "_view_name": "ProgressView",
            "style": "IPY_MODEL_75a8af2d2b16490a9bb5593eea44fed0",
            "_dom_classes": [],
            "description": "Downloading: 100%",
            "_model_name": "FloatProgressModel",
            "bar_style": "success",
            "max": 541808922,
            "_view_module": "@jupyter-widgets/controls",
            "_model_module_version": "1.5.0",
            "value": 541808922,
            "_view_count": null,
            "_view_module_version": "1.5.0",
            "orientation": "horizontal",
            "min": 0,
            "description_tooltip": null,
            "_model_module": "@jupyter-widgets/controls",
            "layout": "IPY_MODEL_57cbd2cd88ca41e5a68ed61fa90980cb"
          }
        },
        "9f389463b4034b0d8fb8ce24907803fb": {
          "model_module": "@jupyter-widgets/controls",
          "model_name": "HTMLModel",
          "state": {
            "_view_name": "HTMLView",
            "style": "IPY_MODEL_561615075e2a4357ac3a5b4a3f203894",
            "_dom_classes": [],
            "description": "",
            "_model_name": "HTMLModel",
            "placeholder": "​",
            "_view_module": "@jupyter-widgets/controls",
            "_model_module_version": "1.5.0",
            "value": " 542M/542M [00:10&lt;00:00, 50.5MB/s]",
            "_view_count": null,
            "_view_module_version": "1.5.0",
            "description_tooltip": null,
            "_model_module": "@jupyter-widgets/controls",
            "layout": "IPY_MODEL_6707b6ebd3cd4e7ba8c7014583599447"
          }
        },
        "75a8af2d2b16490a9bb5593eea44fed0": {
          "model_module": "@jupyter-widgets/controls",
          "model_name": "ProgressStyleModel",
          "state": {
            "_view_name": "StyleView",
            "_model_name": "ProgressStyleModel",
            "description_width": "initial",
            "_view_module": "@jupyter-widgets/base",
            "_model_module_version": "1.5.0",
            "_view_count": null,
            "_view_module_version": "1.2.0",
            "bar_color": null,
            "_model_module": "@jupyter-widgets/controls"
          }
        },
        "57cbd2cd88ca41e5a68ed61fa90980cb": {
          "model_module": "@jupyter-widgets/base",
          "model_name": "LayoutModel",
          "state": {
            "_view_name": "LayoutView",
            "grid_template_rows": null,
            "right": null,
            "justify_content": null,
            "_view_module": "@jupyter-widgets/base",
            "overflow": null,
            "_model_module_version": "1.2.0",
            "_view_count": null,
            "flex_flow": null,
            "width": null,
            "min_width": null,
            "border": null,
            "align_items": null,
            "bottom": null,
            "_model_module": "@jupyter-widgets/base",
            "top": null,
            "grid_column": null,
            "overflow_y": null,
            "overflow_x": null,
            "grid_auto_flow": null,
            "grid_area": null,
            "grid_template_columns": null,
            "flex": null,
            "_model_name": "LayoutModel",
            "justify_items": null,
            "grid_row": null,
            "max_height": null,
            "align_content": null,
            "visibility": null,
            "align_self": null,
            "height": null,
            "min_height": null,
            "padding": null,
            "grid_auto_rows": null,
            "grid_gap": null,
            "max_width": null,
            "order": null,
            "_view_module_version": "1.2.0",
            "grid_template_areas": null,
            "object_position": null,
            "object_fit": null,
            "grid_auto_columns": null,
            "margin": null,
            "display": null,
            "left": null
          }
        },
        "561615075e2a4357ac3a5b4a3f203894": {
          "model_module": "@jupyter-widgets/controls",
          "model_name": "DescriptionStyleModel",
          "state": {
            "_view_name": "StyleView",
            "_model_name": "DescriptionStyleModel",
            "description_width": "",
            "_view_module": "@jupyter-widgets/base",
            "_model_module_version": "1.5.0",
            "_view_count": null,
            "_view_module_version": "1.2.0",
            "_model_module": "@jupyter-widgets/controls"
          }
        },
        "6707b6ebd3cd4e7ba8c7014583599447": {
          "model_module": "@jupyter-widgets/base",
          "model_name": "LayoutModel",
          "state": {
            "_view_name": "LayoutView",
            "grid_template_rows": null,
            "right": null,
            "justify_content": null,
            "_view_module": "@jupyter-widgets/base",
            "overflow": null,
            "_model_module_version": "1.2.0",
            "_view_count": null,
            "flex_flow": null,
            "width": null,
            "min_width": null,
            "border": null,
            "align_items": null,
            "bottom": null,
            "_model_module": "@jupyter-widgets/base",
            "top": null,
            "grid_column": null,
            "overflow_y": null,
            "overflow_x": null,
            "grid_auto_flow": null,
            "grid_area": null,
            "grid_template_columns": null,
            "flex": null,
            "_model_name": "LayoutModel",
            "justify_items": null,
            "grid_row": null,
            "max_height": null,
            "align_content": null,
            "visibility": null,
            "align_self": null,
            "height": null,
            "min_height": null,
            "padding": null,
            "grid_auto_rows": null,
            "grid_gap": null,
            "max_width": null,
            "order": null,
            "_view_module_version": "1.2.0",
            "grid_template_areas": null,
            "object_position": null,
            "object_fit": null,
            "grid_auto_columns": null,
            "margin": null,
            "display": null,
            "left": null
          }
        }
      }
    }
  },
  "cells": [
    {
      "cell_type": "code",
      "metadata": {
        "id": "grNXGYfnXroY",
        "colab_type": "code",
        "colab": {
          "base_uri": "https://localhost:8080/",
          "height": 70
        },
        "outputId": "c064ad30-7727-445f-f302-2c8026f98cdd"
      },
      "source": [
        "import torch\n",
        "from torch import nn\n",
        "from torch import functional as F\n",
        "import pandas as pd\n",
        "import numpy as np\n",
        "from sklearn.model_selection import train_test_split\n",
        "from matplotlib import pyplot as plt\n",
        "import warnings\n",
        "import seaborn as sns\n",
        "warnings.filterwarnings('ignore')"
      ],
      "execution_count": null,
      "outputs": [
        {
          "output_type": "stream",
          "text": [
            "/usr/local/lib/python3.6/dist-packages/statsmodels/tools/_testing.py:19: FutureWarning: pandas.util.testing is deprecated. Use the functions in the public API at pandas.testing instead.\n",
            "  import pandas.util.testing as tm\n"
          ],
          "name": "stderr"
        }
      ]
    },
    {
      "cell_type": "code",
      "metadata": {
        "id": "xgimtDPmck6_",
        "colab_type": "code",
        "colab": {
          "base_uri": "https://localhost:8080/",
          "height": 34
        },
        "outputId": "5f703a3d-3d39-4e94-c632-33f51152f504"
      },
      "source": [
        "device = torch.device('cuda') if torch.cuda.is_available() else torch.device('cpu')\n",
        "print(device)"
      ],
      "execution_count": null,
      "outputs": [
        {
          "output_type": "stream",
          "text": [
            "cuda\n"
          ],
          "name": "stdout"
        }
      ]
    },
    {
      "cell_type": "code",
      "metadata": {
        "id": "xRnKCXXEZUIZ",
        "colab_type": "code",
        "colab": {
          "base_uri": "https://localhost:8080/",
          "height": 121
        },
        "outputId": "e6968390-e0cd-46f2-a179-c32c7089d57b"
      },
      "source": [
        "from google.colab import drive\n",
        "drive.mount('/content/gdrive/')"
      ],
      "execution_count": null,
      "outputs": [
        {
          "output_type": "stream",
          "text": [
            "Go to this URL in a browser: https://accounts.google.com/o/oauth2/auth?client_id=947318989803-6bn6qk8qdgf4n4g3pfee6491hc0brc4i.apps.googleusercontent.com&redirect_uri=urn%3aietf%3awg%3aoauth%3a2.0%3aoob&response_type=code&scope=email%20https%3a%2f%2fwww.googleapis.com%2fauth%2fdocs.test%20https%3a%2f%2fwww.googleapis.com%2fauth%2fdrive%20https%3a%2f%2fwww.googleapis.com%2fauth%2fdrive.photos.readonly%20https%3a%2f%2fwww.googleapis.com%2fauth%2fpeopleapi.readonly\n",
            "\n",
            "Enter your authorization code:\n",
            "··········\n",
            "Mounted at /content/gdrive/\n"
          ],
          "name": "stdout"
        }
      ]
    },
    {
      "cell_type": "markdown",
      "metadata": {
        "id": "ufzPdoTtNikq",
        "colab_type": "text"
      },
      "source": [
        "## Data Exploration"
      ]
    },
    {
      "cell_type": "markdown",
      "metadata": {
        "id": "Qw2I8RttNzDD",
        "colab_type": "text"
      },
      "source": [
        "### English Data"
      ]
    },
    {
      "cell_type": "code",
      "metadata": {
        "id": "OESFSMm4Lac_",
        "colab_type": "code",
        "colab": {}
      },
      "source": [
        "data = pd.ExcelFile('/content/gdrive/My Drive/coursework/Ferguson-en.xlsx')\n",
        "data = data.parse('Лист1')[['Text', 'sentiment']]\n",
        "english = data[(data['sentiment'] != 'r') & (data['sentiment'] != 99) & (data['sentiment'] != 3)] "
      ],
      "execution_count": null,
      "outputs": []
    },
    {
      "cell_type": "code",
      "metadata": {
        "id": "F05bCZsmXrou",
        "colab_type": "code",
        "colab": {
          "base_uri": "https://localhost:8080/",
          "height": 212
        },
        "outputId": "066ecd44-85c0-406c-ea89-9807c44b94ed"
      },
      "source": [
        "print('English Data')\n",
        "english.head()"
      ],
      "execution_count": null,
      "outputs": [
        {
          "output_type": "stream",
          "text": [
            "English Data\n"
          ],
          "name": "stdout"
        },
        {
          "output_type": "execute_result",
          "data": {
            "text/html": [
              "<div>\n",
              "<style scoped>\n",
              "    .dataframe tbody tr th:only-of-type {\n",
              "        vertical-align: middle;\n",
              "    }\n",
              "\n",
              "    .dataframe tbody tr th {\n",
              "        vertical-align: top;\n",
              "    }\n",
              "\n",
              "    .dataframe thead th {\n",
              "        text-align: right;\n",
              "    }\n",
              "</style>\n",
              "<table border=\"1\" class=\"dataframe\">\n",
              "  <thead>\n",
              "    <tr style=\"text-align: right;\">\n",
              "      <th></th>\n",
              "      <th>Text</th>\n",
              "      <th>sentiment</th>\n",
              "    </tr>\n",
              "  </thead>\n",
              "  <tbody>\n",
              "    <tr>\n",
              "      <th>0</th>\n",
              "      <td>@BougieBlackGurl We are asking the community f...</td>\n",
              "      <td>1</td>\n",
              "    </tr>\n",
              "    <tr>\n",
              "      <th>4</th>\n",
              "      <td>@Trouty20 #Ferguson Y must we die? Join Nat&amp;#3...</td>\n",
              "      <td>2</td>\n",
              "    </tr>\n",
              "    <tr>\n",
              "      <th>5</th>\n",
              "      <td>@jimmykimmel #Ferguson Say nothing &amp;amp; more ...</td>\n",
              "      <td>2</td>\n",
              "    </tr>\n",
              "    <tr>\n",
              "      <th>7</th>\n",
              "      <td>Protestors want to go to the police station. #...</td>\n",
              "      <td>0</td>\n",
              "    </tr>\n",
              "    <tr>\n",
              "      <th>8</th>\n",
              "      <td>Here with @MusicOverPeople and @brownblaze. Re...</td>\n",
              "      <td>0</td>\n",
              "    </tr>\n",
              "  </tbody>\n",
              "</table>\n",
              "</div>"
            ],
            "text/plain": [
              "                                                Text sentiment\n",
              "0  @BougieBlackGurl We are asking the community f...         1\n",
              "4  @Trouty20 #Ferguson Y must we die? Join Nat&#3...         2\n",
              "5  @jimmykimmel #Ferguson Say nothing &amp; more ...         2\n",
              "7  Protestors want to go to the police station. #...         0\n",
              "8  Here with @MusicOverPeople and @brownblaze. Re...         0"
            ]
          },
          "metadata": {
            "tags": []
          },
          "execution_count": 5
        }
      ]
    },
    {
      "cell_type": "code",
      "metadata": {
        "id": "UH8SzUxcOMjY",
        "colab_type": "code",
        "colab": {
          "base_uri": "https://localhost:8080/",
          "height": 101
        },
        "outputId": "f8534008-b086-4069-befa-f5dd6a135c5c"
      },
      "source": [
        "print('English classes')\n",
        "english['sentiment'].value_counts()"
      ],
      "execution_count": null,
      "outputs": [
        {
          "output_type": "stream",
          "text": [
            "English classes\n"
          ],
          "name": "stdout"
        },
        {
          "output_type": "execute_result",
          "data": {
            "text/plain": [
              "2    1347\n",
              "0     907\n",
              "1     165\n",
              "Name: sentiment, dtype: int64"
            ]
          },
          "metadata": {
            "tags": []
          },
          "execution_count": 6
        }
      ]
    },
    {
      "cell_type": "code",
      "metadata": {
        "id": "LtJPh9uLcAA0",
        "colab_type": "code",
        "colab": {
          "base_uri": "https://localhost:8080/",
          "height": 298
        },
        "outputId": "ec5ae9bb-83f2-4a45-a8b7-889a887ba869"
      },
      "source": [
        "sns.countplot(english.sentiment)"
      ],
      "execution_count": null,
      "outputs": [
        {
          "output_type": "execute_result",
          "data": {
            "text/plain": [
              "<matplotlib.axes._subplots.AxesSubplot at 0x7f1ea135cc50>"
            ]
          },
          "metadata": {
            "tags": []
          },
          "execution_count": 7
        },
        {
          "output_type": "display_data",
          "data": {
            "image/png": "[encoded data removed]",
            "text/plain": [
              "<Figure size 432x288 with 1 Axes>"
            ]
          },
          "metadata": {
            "tags": [],
            "needs_background": "light"
          }
        }
      ]
    },
    {
      "cell_type": "code",
      "metadata": {
        "id": "UIRbd1tMcZVj",
        "colab_type": "code",
        "colab": {
          "base_uri": "https://localhost:8080/",
          "height": 168
        },
        "outputId": "bcc23697-1606-4a52-f9b3-7f341d3c2fd2"
      },
      "source": [
        "english.info()"
      ],
      "execution_count": null,
      "outputs": [
        {
          "output_type": "stream",
          "text": [
            "<class 'pandas.core.frame.DataFrame'>\n",
            "Int64Index: 2419 entries, 0 to 2998\n",
            "Data columns (total 2 columns):\n",
            " #   Column     Non-Null Count  Dtype \n",
            "---  ------     --------------  ----- \n",
            " 0   Text       2419 non-null   object\n",
            " 1   sentiment  2419 non-null   object\n",
            "dtypes: object(2)\n",
            "memory usage: 136.7+ KB\n"
          ],
          "name": "stdout"
        }
      ]
    },
    {
      "cell_type": "markdown",
      "metadata": {
        "id": "sZsneJu-OEaP",
        "colab_type": "text"
      },
      "source": [
        "### Russian Data"
      ]
    },
    {
      "cell_type": "code",
      "metadata": {
        "id": "9_b-9LTHOG7x",
        "colab_type": "code",
        "colab": {}
      },
      "source": [
        "russian = pd.read_json('/content/gdrive/My Drive/coursework/train.json')\n",
        "russian = russian[['text', 'sentiment']]\n",
        "russian['sentiment'] = russian['sentiment'].map({'neutral': 0, 'positive': 1, 'negative': 2}) "
      ],
      "execution_count": null,
      "outputs": []
    },
    {
      "cell_type": "code",
      "metadata": {
        "id": "KnA8O6MHOwHD",
        "colab_type": "code",
        "colab": {}
      },
      "source": [
        "for i in range(len(russian['text'])):\n",
        "  if len(russian['text'][i]) > 511:\n",
        "    russian['text'][i] = russian['text'][i][:511]"
      ],
      "execution_count": null,
      "outputs": []
    },
    {
      "cell_type": "code",
      "metadata": {
        "id": "_p2lTZoBOw-p",
        "colab_type": "code",
        "colab": {}
      },
      "source": [
        "rus_1 = russian[russian['sentiment'] == 1][:1400]\n",
        "rus_0 = russian[russian['sentiment'] == 0][:1400]\n",
        "rus_2 = russian[russian['sentiment'] == 2][:1400]\n",
        "russian = pd.concat([rus_1, rus_0])\n",
        "russian = pd.concat([russian, rus_2])"
      ],
      "execution_count": null,
      "outputs": []
    },
    {
      "cell_type": "code",
      "metadata": {
        "id": "-lIdaN91ORh6",
        "colab_type": "code",
        "colab": {
          "base_uri": "https://localhost:8080/",
          "height": 212
        },
        "outputId": "3c3177eb-e1cf-4742-f136-89a297d9e5e6"
      },
      "source": [
        "print('Russian Data')\n",
        "russian.head()"
      ],
      "execution_count": null,
      "outputs": [
        {
          "output_type": "stream",
          "text": [
            "Russian Data\n"
          ],
          "name": "stdout"
        },
        {
          "output_type": "execute_result",
          "data": {
            "text/html": [
              "<div>\n",
              "<style scoped>\n",
              "    .dataframe tbody tr th:only-of-type {\n",
              "        vertical-align: middle;\n",
              "    }\n",
              "\n",
              "    .dataframe tbody tr th {\n",
              "        vertical-align: top;\n",
              "    }\n",
              "\n",
              "    .dataframe thead th {\n",
              "        text-align: right;\n",
              "    }\n",
              "</style>\n",
              "<table border=\"1\" class=\"dataframe\">\n",
              "  <thead>\n",
              "    <tr style=\"text-align: right;\">\n",
              "      <th></th>\n",
              "      <th>text</th>\n",
              "      <th>sentiment</th>\n",
              "    </tr>\n",
              "  </thead>\n",
              "  <tbody>\n",
              "    <tr>\n",
              "      <th>15</th>\n",
              "      <td>Завод по переработке масличных культур построи...</td>\n",
              "      <td>1</td>\n",
              "    </tr>\n",
              "    <tr>\n",
              "      <th>17</th>\n",
              "      <td>АСТАНА. КАЗИНФОРМ - Средний показатель поездок...</td>\n",
              "      <td>1</td>\n",
              "    </tr>\n",
              "    <tr>\n",
              "      <th>18</th>\n",
              "      <td>который активно стимулирует казахстанских эксп...</td>\n",
              "      <td>1</td>\n",
              "    </tr>\n",
              "    <tr>\n",
              "      <th>19</th>\n",
              "      <td>Оплачивайте без комиссий «Казахтелеком» на сай...</td>\n",
              "      <td>1</td>\n",
              "    </tr>\n",
              "    <tr>\n",
              "      <th>20</th>\n",
              "      <td>03.02.2017, 12:40\\nНацбанк ставит для себя при...</td>\n",
              "      <td>1</td>\n",
              "    </tr>\n",
              "  </tbody>\n",
              "</table>\n",
              "</div>"
            ],
            "text/plain": [
              "                                                 text  sentiment\n",
              "15  Завод по переработке масличных культур построи...          1\n",
              "17  АСТАНА. КАЗИНФОРМ - Средний показатель поездок...          1\n",
              "18  который активно стимулирует казахстанских эксп...          1\n",
              "19  Оплачивайте без комиссий «Казахтелеком» на сай...          1\n",
              "20  03.02.2017, 12:40\\nНацбанк ставит для себя при...          1"
            ]
          },
          "metadata": {
            "tags": []
          },
          "execution_count": 12
        }
      ]
    },
    {
      "cell_type": "code",
      "metadata": {
        "id": "le5NibMIOHod",
        "colab_type": "code",
        "colab": {
          "base_uri": "https://localhost:8080/",
          "height": 101
        },
        "outputId": "db5aaad9-ea9c-452a-f15b-493996577052"
      },
      "source": [
        "print('Russian classes')\n",
        "russian['sentiment'].value_counts()"
      ],
      "execution_count": null,
      "outputs": [
        {
          "output_type": "stream",
          "text": [
            "Russian classes\n"
          ],
          "name": "stdout"
        },
        {
          "output_type": "execute_result",
          "data": {
            "text/plain": [
              "2    1400\n",
              "1    1400\n",
              "0    1400\n",
              "Name: sentiment, dtype: int64"
            ]
          },
          "metadata": {
            "tags": []
          },
          "execution_count": 13
        }
      ]
    },
    {
      "cell_type": "code",
      "metadata": {
        "id": "F1DjWBiMOHwK",
        "colab_type": "code",
        "colab": {
          "base_uri": "https://localhost:8080/",
          "height": 296
        },
        "outputId": "e7bd33c0-a52a-4458-9505-73bee9d1c0b7"
      },
      "source": [
        "sns.countplot(russian.sentiment)"
      ],
      "execution_count": null,
      "outputs": [
        {
          "output_type": "execute_result",
          "data": {
            "text/plain": [
              "<matplotlib.axes._subplots.AxesSubplot at 0x7fb027d79be0>"
            ]
          },
          "metadata": {
            "tags": []
          },
          "execution_count": 14
        },
        {
          "output_type": "display_data",
          "data": {
            "image/png": "[encoded data removed]",
            "text/plain": [
              "<Figure size 432x288 with 1 Axes>"
            ]
          },
          "metadata": {
            "tags": [],
            "needs_background": "light"
          }
        }
      ]
    },
    {
      "cell_type": "code",
      "metadata": {
        "id": "hIrzHH3XOlAJ",
        "colab_type": "code",
        "colab": {
          "base_uri": "https://localhost:8080/",
          "height": 168
        },
        "outputId": "3e46682a-96a6-4b23-e4e6-3d77e1d64bff"
      },
      "source": [
        "russian.info()"
      ],
      "execution_count": null,
      "outputs": [
        {
          "output_type": "stream",
          "text": [
            "<class 'pandas.core.frame.DataFrame'>\n",
            "Int64Index: 4200 entries, 15 to 8021\n",
            "Data columns (total 2 columns):\n",
            " #   Column     Non-Null Count  Dtype \n",
            "---  ------     --------------  ----- \n",
            " 0   text       4200 non-null   object\n",
            " 1   sentiment  4200 non-null   int64 \n",
            "dtypes: int64(1), object(1)\n",
            "memory usage: 258.4+ KB\n"
          ],
          "name": "stdout"
        }
      ]
    },
    {
      "cell_type": "markdown",
      "metadata": {
        "id": "URUKq8SgiDdo",
        "colab_type": "text"
      },
      "source": [
        "### Number of Features"
      ]
    },
    {
      "cell_type": "code",
      "metadata": {
        "id": "gAgD6xpQh4Zn",
        "colab_type": "code",
        "colab": {
          "base_uri": "https://localhost:8080/",
          "height": 50
        },
        "outputId": "bf06110d-6d49-4b30-af9c-ef6b057bd4e4"
      },
      "source": [
        "print('number of rows in table \"english\":', english.shape[0])\n",
        "print('number of rows in table \"russia\":', russian.shape[0])"
      ],
      "execution_count": null,
      "outputs": [
        {
          "output_type": "stream",
          "text": [
            "number of rows in table \"english\": 2419\n",
            "number of rows in table \"russia\": 4200\n"
          ],
          "name": "stdout"
        }
      ]
    },
    {
      "cell_type": "markdown",
      "metadata": {
        "id": "9aHyGuTFgyPO",
        "colab_type": "text"
      },
      "source": [
        "## Data Preprocessing\n"
      ]
    },
    {
      "cell_type": "markdown",
      "metadata": {
        "id": "unFNhRr5iJxA",
        "colab_type": "text"
      },
      "source": [
        "### Data Cleaning "
      ]
    },
    {
      "cell_type": "code",
      "metadata": {
        "id": "78iSu7mX7PVH",
        "colab_type": "code",
        "colab": {
          "base_uri": "https://localhost:8080/",
          "height": 101
        },
        "outputId": "6d2b12db-e6b5-473f-dedd-209c0de4855b"
      },
      "source": [
        "from nltk.tokenize import word_tokenize\n",
        "from nltk.stem import WordNetLemmatizer\n",
        "from nltk.metrics.scores import precision, recall, f_measure\n",
        "lemmatizer = WordNetLemmatizer()\n",
        "\n",
        "import re\n",
        "from bs4 import BeautifulSoup\n",
        "\n",
        "import nltk\n",
        "nltk.download('punkt')\n",
        "nltk.download('wordnet')"
      ],
      "execution_count": null,
      "outputs": [
        {
          "output_type": "stream",
          "text": [
            "[nltk_data] Downloading package punkt to /root/nltk_data...\n",
            "[nltk_data]   Unzipping tokenizers/punkt.zip.\n",
            "[nltk_data] Downloading package wordnet to /root/nltk_data...\n",
            "[nltk_data]   Unzipping corpora/wordnet.zip.\n"
          ],
          "name": "stdout"
        },
        {
          "output_type": "execute_result",
          "data": {
            "text/plain": [
              "True"
            ]
          },
          "metadata": {
            "tags": []
          },
          "execution_count": 15
        }
      ]
    },
    {
      "cell_type": "code",
      "metadata": {
        "id": "72ne4Yhp66kf",
        "colab_type": "code",
        "colab": {}
      },
      "source": [
        "def preprocess_text(text):\n",
        "    text = BeautifulSoup(text).get_text()\n",
        "    text = re.sub('[^a-zA-Zа-яА-Я1-9]+', ' ', text)\n",
        "    text = re.sub('@[^\\s]+', 'USER', text)\n",
        "    text = text.lower().replace('ё', 'е')\n",
        "    words = word_tokenize(text)\n",
        "    lemma_words = [lemmatizer.lemmatize(i) for i in words]\n",
        "    return lemma_words\n",
        "\n",
        "def preprocess_for_lang(lang):\n",
        "  if lang == 'english':\n",
        "    text = [preprocess_text(t) for t in english['Text']]\n",
        "    labels = pd.Series(np.array(english['sentiment']))\n",
        "\n",
        "  else:\n",
        "    text = [preprocess_text(t) for t in russian['text']]\n",
        "    labels = pd.Series(np.array(russian['sentiment']))\n",
        "    \n",
        "  return pd.Series(text), labels"
      ],
      "execution_count": null,
      "outputs": []
    },
    {
      "cell_type": "code",
      "metadata": {
        "id": "j8n3GOE0UFNu",
        "colab_type": "code",
        "colab": {}
      },
      "source": [
        "eng_text, eng_labels = preprocess_for_lang('english')\n",
        "rus_text, rus_labels = preprocess_for_lang('russia')"
      ],
      "execution_count": null,
      "outputs": []
    },
    {
      "cell_type": "markdown",
      "metadata": {
        "id": "NCuDsXjwis_E",
        "colab_type": "text"
      },
      "source": [
        "### Data Split and Balanced Classes"
      ]
    },
    {
      "cell_type": "code",
      "metadata": {
        "id": "7btXqNQisJr5",
        "colab_type": "code",
        "colab": {}
      },
      "source": [
        "rus_X_train, rus_X_test, rus_y_train, rus_y_test = train_test_split(rus_text, rus_labels, test_size = 0.2, random_state = 42)\n",
        "rus_X_val, rus_X_test, rus_y_val, rus_y_test = train_test_split(rus_X_test, rus_y_test, test_size = 0.5, random_state = 42)"
      ],
      "execution_count": null,
      "outputs": []
    },
    {
      "cell_type": "code",
      "metadata": {
        "id": "vTVkfSA4vn_E",
        "colab_type": "code",
        "colab": {}
      },
      "source": [
        "def sampling():\n",
        "  eng_X_train, eng_X_test, eng_y_train, eng_y_test = train_test_split(eng_text, eng_labels, test_size = 0.2, random_state = 42)\n",
        "  eng_X_val, eng_X_test, eng_y_val, eng_y_test = train_test_split(eng_X_test, eng_y_test, test_size = 0.5, random_state = 42)\n",
        "\n",
        "  data = pd.DataFrame({'data': eng_X_train, 'sent': eng_y_train})\n",
        "\n",
        "  eng_X_train_1 = pd.concat([data[data['sent'] == 1], data[data['sent'] == 1]])\n",
        "  eng_X_train_1 = pd.concat([eng_X_train_1, data[data['sent'] == 1]])\n",
        "  eng_X_train_1 = pd.concat([eng_X_train_1, eng_X_train_1])\n",
        "  data = pd.concat([data, eng_X_train_1])\n",
        "\n",
        "  eng_X_train = data['data']\n",
        "  eng_y_train = data['sent']\n",
        "\n",
        "  data = pd.DataFrame({'data': pd.Series(eng_X_test), 'sent': pd.Series(eng_y_test)}) \n",
        "  eng_X_test = data['data']\n",
        "  eng_y_test = data['sent']\n",
        "\n",
        "  data = pd.DataFrame({'data': pd.Series(eng_X_val), 'sent': pd.Series(eng_y_val)}) \n",
        "  eng_X_val = data['data']\n",
        "  eng_y_val = data['sent']\n",
        "  \n",
        "  return eng_X_train, eng_X_val, eng_X_test, eng_y_train, eng_y_val, eng_y_test\n",
        "\n",
        "eng_X_train, eng_X_val, eng_X_test, eng_y_train, eng_y_val, eng_y_test = sampling()"
      ],
      "execution_count": null,
      "outputs": []
    },
    {
      "cell_type": "markdown",
      "metadata": {
        "id": "iykbHJO1jzEP",
        "colab_type": "text"
      },
      "source": [
        "### Data Vectorization"
      ]
    },
    {
      "cell_type": "code",
      "metadata": {
        "id": "J4J0FyGQjVci",
        "colab_type": "code",
        "colab": {
          "base_uri": "https://localhost:8080/",
          "height": 847,
          "referenced_widgets": [
            "11202b8347f74ecd9fd6f945baaa86c7",
            "077a3d6a5bfc43539c9504012c2218b2",
            "45cdd703b2b440abad467981af34f27e",
            "6e578b53291246a9b9b6965da56b0685",
            "7211b43a70c341249ba290ee94231eef",
            "9fedc79752b24832a23232fa66c7959b",
            "e0563cdb9d0b4d4ea1a142104fbdc94b",
            "50355f0a8d924fefad28eeeb46ec16d6",
            "4eef7f8a3d1f48679b7082f341c5318a",
            "1c6804c496064e098b7bc2d1c73ebe80",
            "f29678d33cbd443db35137b5220d751c",
            "a0e0071d8c8c4b1ea7c0d4a5e1d73229",
            "714bd0ed389e423593c2d5c29e02a174",
            "26cc8e634d8446cea31db6908e85469a",
            "10cdc44220a44b63a1f7f4d323e6f1c1",
            "b177e6798a9e4f4fbaf1805199ca70ed",
            "eba3f818aadc4283a00e3581b57ef52e",
            "5e6171ad45ec455faf56d30e0285a1b5",
            "9159718591134fce8f62ce4847b9ef62",
            "05e0a61dff904310a3f0965a77757509",
            "3803f7abecfb4954b58b17013bb4abea",
            "38ab4da2743e425ab6fe8b814b660f85",
            "9a1056b2c8f546e3a32b0d8aaf75d404",
            "f7488393d501472ba1d692b6b10d07c7",
            "979aa7a1c2a549ce8b2b485f0309124b",
            "3c04b92774a4476d816f70861fafa732",
            "22257a4f97364722be86b4ed4092ad09",
            "44534c2afaed499f8dff5ca4d222450e",
            "95f01970509948a3939c28b9d09194b1",
            "7f565bcaa83142fe99509ca5dbfa23b2",
            "e8132a3bdd5841ec98fdc2bc6986292f",
            "dcddf50d04ba411c89c6a5eeaed5f38d",
            "1621aab1fdf448819ba943e2b1270bf9",
            "80d4207272554491a235fb84a3907f02",
            "256f0dfd4376471986906ef7d608e794",
            "bef20cddce0f421984c19f431c572e0f",
            "a253ccb3700a443cb1d1a93362c99ad8",
            "4a1ac36f5faf4713a0ce6c4f612cbd61",
            "290e15839e7a42168c0fc6df7490644f",
            "4defc16bf18048c9b70376420912c705",
            "43a24730737b447ab86b5633e43482d4",
            "f7bf26ec5f8448cc879fbed8fa2d1560",
            "4d2244f7495747fe87da1eda0972cedd",
            "9f389463b4034b0d8fb8ce24907803fb",
            "75a8af2d2b16490a9bb5593eea44fed0",
            "57cbd2cd88ca41e5a68ed61fa90980cb",
            "561615075e2a4357ac3a5b4a3f203894",
            "6707b6ebd3cd4e7ba8c7014583599447"
          ]
        },
        "outputId": "45fe3c6b-fec2-4377-e10e-6e164219cef7"
      },
      "source": [
        "!pip install transformers\n",
        "\n",
        "import transformers as ppb\n",
        "\n",
        "model_class, tokenizer_class, pretrained_weights = (ppb.DistilBertModel, ppb.DistilBertTokenizer, 'distilbert-base-uncased')\n",
        "tokenizer = tokenizer_class.from_pretrained(pretrained_weights)\n",
        "model_bert = model_class.from_pretrained(pretrained_weights)\n",
        "\n",
        "\n",
        "from transformers import DistilBertTokenizer, DistilBertModel\n",
        "\n",
        "tokenizer_rus = DistilBertTokenizer.from_pretrained('distilbert-base-multilingual-cased')\n",
        "model_bert_rus = DistilBertModel.from_pretrained('distilbert-base-multilingual-cased')"
      ],
      "execution_count": null,
      "outputs": [
        {
          "output_type": "stream",
          "text": [
            "Collecting transformers\n",
            "\u001b[?25l  Downloading https://files.pythonhosted.org/packages/12/b5/ac41e3e95205ebf53439e4dd087c58e9fd371fd8e3724f2b9b4cdb8282e5/transformers-2.10.0-py3-none-any.whl (660kB)\n",
            "\u001b[K     |████████████████████████████████| 665kB 3.4MB/s \n",
            "\u001b[?25hCollecting sacremoses\n",
            "\u001b[?25l  Downloading https://files.pythonhosted.org/packages/7d/34/09d19aff26edcc8eb2a01bed8e98f13a1537005d31e95233fd48216eed10/sacremoses-0.0.43.tar.gz (883kB)\n",
            "\u001b[K     |████████████████████████████████| 890kB 48.4MB/s \n",
            "\u001b[?25hRequirement already satisfied: filelock in /usr/local/lib/python3.6/dist-packages (from transformers) (3.0.12)\n",
            "Collecting sentencepiece\n",
            "\u001b[?25l  Downloading https://files.pythonhosted.org/packages/d4/a4/d0a884c4300004a78cca907a6ff9a5e9fe4f090f5d95ab341c53d28cbc58/sentencepiece-0.1.91-cp36-cp36m-manylinux1_x86_64.whl (1.1MB)\n",
            "\u001b[K     |████████████████████████████████| 1.1MB 43.7MB/s \n",
            "\u001b[?25hRequirement already satisfied: regex!=2019.12.17 in /usr/local/lib/python3.6/dist-packages (from transformers) (2019.12.20)\n",
            "Requirement already satisfied: tqdm>=4.27 in /usr/local/lib/python3.6/dist-packages (from transformers) (4.41.1)\n",
            "Requirement already satisfied: requests in /usr/local/lib/python3.6/dist-packages (from transformers) (2.23.0)\n",
            "Collecting tokenizers==0.7.0\n",
            "\u001b[?25l  Downloading https://files.pythonhosted.org/packages/14/e5/a26eb4716523808bb0a799fcfdceb6ebf77a18169d9591b2f46a9adb87d9/tokenizers-0.7.0-cp36-cp36m-manylinux1_x86_64.whl (3.8MB)\n",
            "\u001b[K     |████████████████████████████████| 3.8MB 45.6MB/s \n",
            "\u001b[?25hRequirement already satisfied: dataclasses; python_version < \"3.7\" in /usr/local/lib/python3.6/dist-packages (from transformers) (0.7)\n",
            "Requirement already satisfied: numpy in /usr/local/lib/python3.6/dist-packages (from transformers) (1.18.4)\n",
            "Requirement already satisfied: six in /usr/local/lib/python3.6/dist-packages (from sacremoses->transformers) (1.12.0)\n",
            "Requirement already satisfied: click in /usr/local/lib/python3.6/dist-packages (from sacremoses->transformers) (7.1.2)\n",
            "Requirement already satisfied: joblib in /usr/local/lib/python3.6/dist-packages (from sacremoses->transformers) (0.15.1)\n",
            "Requirement already satisfied: urllib3!=1.25.0,!=1.25.1,<1.26,>=1.21.1 in /usr/local/lib/python3.6/dist-packages (from requests->transformers) (1.24.3)\n",
            "Requirement already satisfied: chardet<4,>=3.0.2 in /usr/local/lib/python3.6/dist-packages (from requests->transformers) (3.0.4)\n",
            "Requirement already satisfied: idna<3,>=2.5 in /usr/local/lib/python3.6/dist-packages (from requests->transformers) (2.9)\n",
            "Requirement already satisfied: certifi>=2017.4.17 in /usr/local/lib/python3.6/dist-packages (from requests->transformers) (2020.4.5.1)\n",
            "Building wheels for collected packages: sacremoses\n",
            "  Building wheel for sacremoses (setup.py) ... \u001b[?25l\u001b[?25hdone\n",
            "  Created wheel for sacremoses: filename=sacremoses-0.0.43-cp36-none-any.whl size=893260 sha256=61114fde598473c8d18e8ba92fe13c02af33c4e7e29c25146a8a5ce0c8d0f1b3\n",
            "  Stored in directory: /root/.cache/pip/wheels/29/3c/fd/7ce5c3f0666dab31a50123635e6fb5e19ceb42ce38d4e58f45\n",
            "Successfully built sacremoses\n",
            "Installing collected packages: sacremoses, sentencepiece, tokenizers, transformers\n",
            "Successfully installed sacremoses-0.0.43 sentencepiece-0.1.91 tokenizers-0.7.0 transformers-2.10.0\n"
          ],
          "name": "stdout"
        },
        {
          "output_type": "display_data",
          "data": {
            "application/vnd.jupyter.widget-view+json": {
              "model_id": "11202b8347f74ecd9fd6f945baaa86c7",
              "version_minor": 0,
              "version_major": 2
            },
            "text/plain": [
              "HBox(children=(FloatProgress(value=0.0, description='Downloading', max=231508.0, style=ProgressStyle(descripti…"
            ]
          },
          "metadata": {
            "tags": []
          }
        },
        {
          "output_type": "stream",
          "text": [
            "\n"
          ],
          "name": "stdout"
        },
        {
          "output_type": "display_data",
          "data": {
            "application/vnd.jupyter.widget-view+json": {
              "model_id": "4eef7f8a3d1f48679b7082f341c5318a",
              "version_minor": 0,
              "version_major": 2
            },
            "text/plain": [
              "HBox(children=(FloatProgress(value=0.0, description='Downloading', max=442.0, style=ProgressStyle(description_…"
            ]
          },
          "metadata": {
            "tags": []
          }
        },
        {
          "output_type": "stream",
          "text": [
            "\n"
          ],
          "name": "stdout"
        },
        {
          "output_type": "display_data",
          "data": {
            "application/vnd.jupyter.widget-view+json": {
              "model_id": "eba3f818aadc4283a00e3581b57ef52e",
              "version_minor": 0,
              "version_major": 2
            },
            "text/plain": [
              "HBox(children=(FloatProgress(value=0.0, description='Downloading', max=267967963.0, style=ProgressStyle(descri…"
            ]
          },
          "metadata": {
            "tags": []
          }
        },
        {
          "output_type": "stream",
          "text": [
            "\n"
          ],
          "name": "stdout"
        },
        {
          "output_type": "display_data",
          "data": {
            "application/vnd.jupyter.widget-view+json": {
              "model_id": "979aa7a1c2a549ce8b2b485f0309124b",
              "version_minor": 0,
              "version_major": 2
            },
            "text/plain": [
              "HBox(children=(FloatProgress(value=0.0, description='Downloading', max=995526.0, style=ProgressStyle(descripti…"
            ]
          },
          "metadata": {
            "tags": []
          }
        },
        {
          "output_type": "stream",
          "text": [
            "\n"
          ],
          "name": "stdout"
        },
        {
          "output_type": "display_data",
          "data": {
            "application/vnd.jupyter.widget-view+json": {
              "model_id": "1621aab1fdf448819ba943e2b1270bf9",
              "version_minor": 0,
              "version_major": 2
            },
            "text/plain": [
              "HBox(children=(FloatProgress(value=0.0, description='Downloading', max=466.0, style=ProgressStyle(description_…"
            ]
          },
          "metadata": {
            "tags": []
          }
        },
        {
          "output_type": "stream",
          "text": [
            "\n"
          ],
          "name": "stdout"
        },
        {
          "output_type": "display_data",
          "data": {
            "application/vnd.jupyter.widget-view+json": {
              "model_id": "43a24730737b447ab86b5633e43482d4",
              "version_minor": 0,
              "version_major": 2
            },
            "text/plain": [
              "HBox(children=(FloatProgress(value=0.0, description='Downloading', max=541808922.0, style=ProgressStyle(descri…"
            ]
          },
          "metadata": {
            "tags": []
          }
        },
        {
          "output_type": "stream",
          "text": [
            "\n"
          ],
          "name": "stdout"
        }
      ]
    },
    {
      "cell_type": "code",
      "metadata": {
        "id": "oehwRs9pWeYc",
        "colab_type": "code",
        "colab": {}
      },
      "source": [
        "import torch\n",
        "\n",
        "def text_to_hidden_states(tokenizer, model, X):\n",
        "\n",
        "  tokenized = X.apply(lambda x: tokenizer.encode(x, add_special_tokens = True))\n",
        "  max_len = 0\n",
        "\n",
        "  for i in tokenized.values:\n",
        "    if len(i) > max_len:\n",
        "      max_len = len(i)\n",
        "\n",
        "  padded = np.array([i + [0] * (max_len - len(i)) for i in tokenized.values])\n",
        "\n",
        "  attention_mask = torch.tensor(np.where(padded != 0, 1, 0))\n",
        "  input_ids = torch.tensor(padded).to(torch.int64) \n",
        "\n",
        "  with torch.no_grad():\n",
        "    last_hidden_states = model(input_ids, attention_mask = attention_mask)\n",
        "\n",
        "  return last_hidden_states[0]"
      ],
      "execution_count": null,
      "outputs": []
    },
    {
      "cell_type": "code",
      "metadata": {
        "id": "TVgiby7zoWto",
        "colab_type": "code",
        "colab": {}
      },
      "source": [
        "def hidden(tokenizer, model, X_train, X_val, X_test, y_train, y_val, y_test):\n",
        "\n",
        "  X_train = text_to_hidden_states(tokenizer, model, X_train)\n",
        "  X_val = text_to_hidden_states(tokenizer, model, X_val)\n",
        "  X_test = text_to_hidden_states(tokenizer, model, X_test)\n",
        "\n",
        "  y_train = torch.from_numpy(np.array(y_train).astype(int))\n",
        "  y_val = torch.from_numpy(np.array(y_val).astype(int))\n",
        "  y_test = torch.from_numpy(np.array(y_test).astype(int))\n",
        "\n",
        "  return X_train, X_val, X_test, y_train, y_val, y_test"
      ],
      "execution_count": null,
      "outputs": []
    },
    {
      "cell_type": "code",
      "metadata": {
        "id": "9REE1MSWLh8A",
        "colab_type": "code",
        "colab": {}
      },
      "source": [
        "eng_X_train, eng_X_val, eng_X_test, eng_y_train, eng_y_val, eng_y_test = hidden(tokenizer, model_bert, \n",
        "                                                                                eng_X_train, eng_X_val, eng_X_test, eng_y_train, eng_y_val, eng_y_test)"
      ],
      "execution_count": null,
      "outputs": []
    },
    {
      "cell_type": "code",
      "metadata": {
        "id": "HbxvlcxNWJNU",
        "colab_type": "code",
        "colab": {}
      },
      "source": [
        "rus_X_train, rus_X_val, rus_X_test, rus_y_train, rus_y_val, rus_y_test = hidden(tokenizer_rus, model_bert_rus, \n",
        "                                                                                rus_X_train, rus_X_val, rus_X_test, rus_y_train, rus_y_val, rus_y_test)"
      ],
      "execution_count": null,
      "outputs": []
    },
    {
      "cell_type": "markdown",
      "metadata": {
        "id": "B_eOlzWTn_Bm",
        "colab_type": "text"
      },
      "source": [
        "## Model"
      ]
    },
    {
      "cell_type": "code",
      "metadata": {
        "id": "OVIpJ4-p-Z1h",
        "colab_type": "code",
        "colab": {}
      },
      "source": [
        "class CNNBaseline(nn.Module):\n",
        "    def __init__(self, D, kernel_sizes, num_filters = 3):\n",
        "        super(CNNBaseline, self).__init__()\n",
        "        self.convs = nn.ModuleList([nn.Conv1d(in_channels=D, out_channels=num_filters, kernel_size=K) for K in kernel_sizes])\n",
        "        self.linear = nn.Linear(len(kernel_sizes) * num_filters, 3)\n",
        "        \n",
        "    def forward(self, x):\n",
        "        x = x.permute(0, 2, 1)\n",
        "        x = [torch.nn.functional.relu(conv(x)) for conv in self.convs]\n",
        "        x = [torch.nn.functional.max_pool1d(conv, conv.shape[2]) for conv in x] \n",
        "        x = torch.cat(x, dim=1).squeeze(2)\n",
        "\n",
        "        out = self.linear(x)\n",
        "        return out.squeeze()\n",
        "\n",
        "\n",
        "kernel_sizes = [2] * 10 + [3] * 10 + [4] * 10 + [5] * 10\n",
        "model = CNNBaseline(768, kernel_sizes)\n",
        "\n",
        "loss_fn = torch.nn.CrossEntropyLoss()\n",
        "learning_rate = 1e-3\n",
        "optimizer = torch.optim.Adam(model.parameters(), lr = learning_rate)"
      ],
      "execution_count": null,
      "outputs": []
    },
    {
      "cell_type": "markdown",
      "metadata": {
        "id": "WxN7kWGCoDdt",
        "colab_type": "text"
      },
      "source": [
        "## Train Model"
      ]
    },
    {
      "cell_type": "code",
      "metadata": {
        "id": "HEho9hwrmudq",
        "colab_type": "code",
        "colab": {}
      },
      "source": [
        "def batch_generator(X, y, batch_size):\n",
        "    np.random.seed(42)\n",
        "    perm = np.random.permutation(len(X))\n",
        "    for start_index in range(0, len(perm), batch_size):\n",
        "        batch_indexes = perm[start_index:start_index + batch_size]\n",
        "        X_batch = X[batch_indexes]\n",
        "        y_batch = y[batch_indexes]\n",
        "        yield X_batch, y_batch"
      ],
      "execution_count": null,
      "outputs": []
    },
    {
      "cell_type": "code",
      "metadata": {
        "id": "vFySogOXKMuw",
        "colab_type": "code",
        "colab": {}
      },
      "source": [
        "def train_epoch(model, X, y):\n",
        "  model = model.train()\n",
        "  losses = []\n",
        "  correct_predictions = 0\n",
        "\n",
        "  for X_batch, y_batch in batch_generator(X, y, 256):\n",
        "\n",
        "    X_batch = X_batch.to(device)\n",
        "    y_batch = y_batch.to(device)\n",
        "\n",
        "    pred = model(X_batch)\n",
        "    _, preds = torch.max(pred, dim=1)\n",
        "    optimizer.zero_grad()\n",
        "    loss = loss_fn(pred, y_batch)\n",
        "    losses.append(loss.item())  \n",
        "    loss.backward()\n",
        "    optimizer.step()\n",
        "\n",
        "    correct_predictions += torch.sum(preds == y_batch)\n",
        "    \n",
        "  return correct_predictions.double() / y.shape[0], np.mean(losses)"
      ],
      "execution_count": null,
      "outputs": []
    },
    {
      "cell_type": "code",
      "metadata": {
        "id": "q6dNPjA7KNT1",
        "colab_type": "code",
        "colab": {}
      },
      "source": [
        "def eval_model(model, X, y):\n",
        "  model = model.eval()\n",
        "  losses = []\n",
        "  correct_predictions = 0\n",
        "\n",
        "  with torch.no_grad():\n",
        "    for X_batch, y_batch in batch_generator(X, y, 256):\n",
        "\n",
        "      X_batch = X_batch.to(device)\n",
        "      y_batch = y_batch.to(device)\n",
        "\n",
        "      pred = model(X_batch)\n",
        "      _, preds = torch.max(pred, dim=1)\n",
        "      loss = loss_fn(pred, y_batch)\n",
        "      losses.append(loss.item())\n",
        "\n",
        "      correct_predictions += torch.sum(preds == y_batch)\n",
        "      \n",
        "  return correct_predictions.double() / y.shape[0], np.mean(losses)"
      ],
      "execution_count": null,
      "outputs": []
    },
    {
      "cell_type": "code",
      "metadata": {
        "id": "n4t8adEJKd6P",
        "colab_type": "code",
        "colab": {}
      },
      "source": [
        "def train_model(mode, model, X_train, y_train, X_val, y_val, X_test, y_test, n_epoch):\n",
        "  if mode == 'train':\n",
        "    %%time\n",
        "    history_train_loss = []\n",
        "    history_val_loss = []\n",
        "    history_train_acc = []\n",
        "    history_val_acc = []\n",
        "    best_accuracy = 0\n",
        "\n",
        "    for epoch in range(n_epoch):\n",
        "      '''print(f'Epoch {epoch + 1}/{n_epoch}')\n",
        "      print('-' * 10)'''\n",
        "\n",
        "      train_acc, train_loss = train_epoch(model, X_train, y_train)\n",
        "      #print(f'Train loss {train_loss} accuracy {train_acc}')\n",
        "\n",
        "      val_acc, val_loss = eval_model(model, X_val, y_val)\n",
        "      '''print(f'Val   loss {val_loss} accuracy {val_acc}')\n",
        "      print()'''\n",
        "\n",
        "      history_train_acc.append(train_acc)\n",
        "      history_train_loss.append(train_loss)\n",
        "      history_val_acc.append(val_acc)\n",
        "      history_val_loss.append(val_loss)\n",
        "\n",
        "      if val_acc > best_accuracy:\n",
        "        torch.save(model.state_dict(), 'best_model_state.bin')\n",
        "        best_accuracy = val_acc\n",
        "\n",
        "    print()\n",
        "    print(f'Train loss {train_loss} accuracy {train_acc}')\n",
        "    #print()\n",
        "    print(f'Val   loss {val_loss} accuracy {val_acc}')\n",
        "\n",
        "  else:\n",
        "    test_acc, _ = eval_model(model, X_test, y_test)\n",
        "    print(test_acc.item())"
      ],
      "execution_count": null,
      "outputs": []
    },
    {
      "cell_type": "code",
      "metadata": {
        "id": "m3RFhgfxRdkB",
        "colab_type": "code",
        "colab": {}
      },
      "source": [
        "seed = 42\n",
        "torch.manual_seed(seed)\n",
        "torch.cuda.manual_seed(seed)\n",
        "torch.backends.cudnn.deterministic = True\n",
        "\n",
        "CNN_eng = model.to(device)\n",
        "CNN_rus = model.to(device)"
      ],
      "execution_count": null,
      "outputs": []
    },
    {
      "cell_type": "code",
      "metadata": {
        "id": "EI8F6u4Jj1O9",
        "colab_type": "code",
        "colab": {
          "base_uri": "https://localhost:8080/",
          "height": 134
        },
        "outputId": "d7c270e6-41fc-4c7b-c33c-e4dcf8c44f13"
      },
      "source": [
        "print('English Train')\n",
        "print()\n",
        "train_model('train', CNN_eng, eng_X_train, eng_y_train, eng_X_val, eng_y_val, eng_X_test, eng_y_test, 30)"
      ],
      "execution_count": null,
      "outputs": [
        {
          "output_type": "stream",
          "text": [
            "English Train\n",
            "\n",
            "CPU times: user 4 µs, sys: 0 ns, total: 4 µs\n",
            "Wall time: 8.58 µs\n",
            "\n",
            "Train loss 0.015220655043694105 accuracy 0.9985267034990791\n",
            "Val   loss 0.914513111114502 accuracy 0.7603305785123967\n"
          ],
          "name": "stdout"
        }
      ]
    },
    {
      "cell_type": "code",
      "metadata": {
        "id": "BiP9xnFvR7rq",
        "colab_type": "code",
        "colab": {
          "base_uri": "https://localhost:8080/",
          "height": 50
        },
        "outputId": "c667edcc-4656-4752-acd2-05270f89c344"
      },
      "source": [
        "print('English Test')\n",
        "train_model('test', CNN_eng, eng_X_train, eng_y_train, eng_X_val, eng_y_val, eng_X_test, eng_y_test, 0)"
      ],
      "execution_count": null,
      "outputs": [
        {
          "output_type": "stream",
          "text": [
            "English Test\n",
            "0.7809917355371901\n"
          ],
          "name": "stdout"
        }
      ]
    },
    {
      "cell_type": "code",
      "metadata": {
        "id": "B80HpnfARxvs",
        "colab_type": "code",
        "colab": {
          "base_uri": "https://localhost:8080/",
          "height": 134
        },
        "outputId": "8762b374-1d64-450c-931c-56808b7a6caf"
      },
      "source": [
        "print('Russian Train')\n",
        "print()\n",
        "train_model('train', CNN_rus, rus_X_train, rus_y_train, rus_X_val, rus_y_val, rus_X_test, rus_y_test, 30)"
      ],
      "execution_count": null,
      "outputs": [
        {
          "output_type": "stream",
          "text": [
            "Russian Train\n",
            "\n",
            "CPU times: user 3 µs, sys: 0 ns, total: 3 µs\n",
            "Wall time: 5.96 µs\n",
            "\n",
            "Train loss 0.11424087121018342 accuracy 0.9788690476190477\n",
            "Val   loss 1.1435400247573853 accuracy 0.5714285714285715\n"
          ],
          "name": "stdout"
        }
      ]
    },
    {
      "cell_type": "code",
      "metadata": {
        "id": "ZpnKjZ3qSFni",
        "colab_type": "code",
        "colab": {
          "base_uri": "https://localhost:8080/",
          "height": 50
        },
        "outputId": "1879d29e-b834-4451-9ae9-ed8abe3af3b2"
      },
      "source": [
        "print('Russian Test')\n",
        "train_model('test', CNN_rus, rus_X_train, rus_y_train, rus_X_val, rus_y_val, rus_X_test, rus_y_test, 0)"
      ],
      "execution_count": null,
      "outputs": [
        {
          "output_type": "stream",
          "text": [
            "Russian Test\n",
            "0.5523809523809524\n"
          ],
          "name": "stdout"
        }
      ]
    },
    {
      "cell_type": "markdown",
      "metadata": {
        "id": "q_fu1fMRoMvY",
        "colab_type": "text"
      },
      "source": [
        "## Evaluation "
      ]
    },
    {
      "cell_type": "code",
      "metadata": {
        "id": "ZKAvecDRPVtK",
        "colab_type": "code",
        "colab": {}
      },
      "source": [
        "def get_predictions(model, X, y):\n",
        "  model = model.eval()\n",
        "  predictions = []\n",
        "  prediction_probs = []\n",
        "  real_values = []\n",
        "\n",
        "  with torch.no_grad():\n",
        "    for X_batch, y_batch in batch_generator(X, y, 256):\n",
        "      X_batch = X_batch.to(device)\n",
        "      y_batch = y_batch.to(device)\n",
        "      pred = model(X_batch)\n",
        "      _, preds = torch.max(pred, dim=1)\n",
        "\n",
        "      probs = torch.nn.functional.softmax(pred, dim=1)\n",
        "      predictions.extend(preds)\n",
        "      prediction_probs.extend(probs)\n",
        "      real_values.extend(y_batch)\n",
        "\n",
        "  predictions = torch.stack(predictions).cpu()\n",
        "  prediction_probs = torch.stack(prediction_probs).cpu()\n",
        "  real_values = torch.stack(real_values).cpu()\n",
        "\n",
        "  return predictions, prediction_probs, real_values"
      ],
      "execution_count": null,
      "outputs": []
    },
    {
      "cell_type": "code",
      "metadata": {
        "id": "lLGMRVxiRa3p",
        "colab_type": "code",
        "colab": {}
      },
      "source": [
        "from sklearn.metrics import confusion_matrix, classification_report\n",
        "\n",
        "def report(model, X_test, y_test):\n",
        "  y_pred, y_pred_probs, y_test = get_predictions(model, X_test, y_test)\n",
        "  class_names = ['neutral', 'positive', 'negative']\n",
        "  return classification_report(y_test, y_pred, target_names=class_names), y_test, y_pred"
      ],
      "execution_count": null,
      "outputs": []
    },
    {
      "cell_type": "code",
      "metadata": {
        "id": "tf7Y2vu7SKII",
        "colab_type": "code",
        "colab": {
          "base_uri": "https://localhost:8080/",
          "height": 202
        },
        "outputId": "d7371100-e498-41c5-d061-5008080e2bb7"
      },
      "source": [
        "rep_eng, y_test_eng, y_pred_eng = report(CNN_eng, eng_X_test, eng_y_test)\n",
        "print('English Report')\n",
        "print(rep_eng)"
      ],
      "execution_count": null,
      "outputs": [
        {
          "output_type": "stream",
          "text": [
            "English Report\n",
            "              precision    recall  f1-score   support\n",
            "\n",
            "     neutral       0.88      0.60      0.71        85\n",
            "    positive       0.67      0.33      0.44        18\n",
            "    negative       0.76      0.96      0.85       139\n",
            "\n",
            "    accuracy                           0.79       242\n",
            "   macro avg       0.77      0.63      0.67       242\n",
            "weighted avg       0.79      0.79      0.77       242\n",
            "\n"
          ],
          "name": "stdout"
        }
      ]
    },
    {
      "cell_type": "code",
      "metadata": {
        "id": "oVVA9oj1RbI_",
        "colab_type": "code",
        "colab": {
          "base_uri": "https://localhost:8080/",
          "height": 202
        },
        "outputId": "8e57257e-d904-4aef-9050-8967164b003e"
      },
      "source": [
        "rep_rus, y_test_rus, y_pred_rus = report(CNN_rus, rus_X_test, rus_y_test)\n",
        "print('Russian Report')\n",
        "print(rep_rus)"
      ],
      "execution_count": null,
      "outputs": [
        {
          "output_type": "stream",
          "text": [
            "Russian Report\n",
            "              precision    recall  f1-score   support\n",
            "\n",
            "     neutral       0.47      0.44      0.45       144\n",
            "    positive       0.64      0.57      0.60       155\n",
            "    negative       0.55      0.67      0.60       121\n",
            "\n",
            "    accuracy                           0.55       420\n",
            "   macro avg       0.55      0.56      0.55       420\n",
            "weighted avg       0.55      0.55      0.55       420\n",
            "\n"
          ],
          "name": "stdout"
        }
      ]
    },
    {
      "cell_type": "code",
      "metadata": {
        "id": "66XqN_ZVXrra",
        "colab_type": "code",
        "colab": {}
      },
      "source": [
        "import seaborn as sns\n",
        "\n",
        "class_names = ['neutral', 'positive', 'negative']\n",
        "\n",
        "def show_confusion_matrix(confusion_matrix):\n",
        "  hmap = sns.heatmap(confusion_matrix, annot=True, fmt=\"d\", cmap=\"Blues\")\n",
        "  hmap.yaxis.set_ticklabels(hmap.yaxis.get_ticklabels(), rotation=0, ha='right')\n",
        "  hmap.xaxis.set_ticklabels(hmap.xaxis.get_ticklabels(), rotation=30, ha='right')\n",
        "  plt.ylabel('True sentiment')\n",
        "  plt.xlabel('Predicted sentiment');\n",
        "\n",
        "def conf_matr_lang(y_test, y_pred):\n",
        "  cm = confusion_matrix(y_test, y_pred)\n",
        "  df_cm = pd.DataFrame(cm, index=class_names, columns=class_names)\n",
        "  show_confusion_matrix(df_cm)"
      ],
      "execution_count": null,
      "outputs": []
    },
    {
      "cell_type": "code",
      "metadata": {
        "id": "hToBlC0KgzhG",
        "colab_type": "code",
        "colab": {
          "base_uri": "https://localhost:8080/",
          "height": 334
        },
        "outputId": "69889a24-f9c2-4dbf-8e83-894d30d79f0c"
      },
      "source": [
        "print('English Matrix')\n",
        "print()\n",
        "conf_matr_lang(y_test_eng, y_pred_eng)"
      ],
      "execution_count": null,
      "outputs": [
        {
          "output_type": "stream",
          "text": [
            "English Matrix\n",
            "\n"
          ],
          "name": "stdout"
        },
        {
          "output_type": "display_data",
          "data": {
            "image/png": "[encoded data removed]",
            "text/plain": [
              "<Figure size 432x288 with 2 Axes>"
            ]
          },
          "metadata": {
            "tags": [],
            "needs_background": "light"
          }
        }
      ]
    },
    {
      "cell_type": "code",
      "metadata": {
        "id": "BufGSbqyg3CR",
        "colab_type": "code",
        "colab": {
          "base_uri": "https://localhost:8080/",
          "height": 334
        },
        "outputId": "3d01c0fb-44a0-4613-a698-aa0222c3b0b8"
      },
      "source": [
        "print('Russian Matrix')\n",
        "print()\n",
        "conf_matr_lang(y_test_rus, y_pred_rus)"
      ],
      "execution_count": null,
      "outputs": [
        {
          "output_type": "stream",
          "text": [
            "Russian Matrix\n",
            "\n"
          ],
          "name": "stdout"
        },
        {
          "output_type": "display_data",
          "data": {
            "image/png": "[encoded data removed]",
            "text/plain": [
              "<Figure size 432x288 with 2 Axes>"
            ]
          },
          "metadata": {
            "tags": [],
            "needs_background": "light"
          }
        }
      ]
    },
    {
      "cell_type": "markdown",
      "metadata": {
        "id": "2ko9ecCKlMPv",
        "colab_type": "text"
      },
      "source": [
        "## Predicting on Raw Text"
      ]
    },
    {
      "cell_type": "code",
      "metadata": {
        "id": "N1Mv5AvKg61E",
        "colab_type": "code",
        "colab": {}
      },
      "source": [
        "def predict_for_new(review_text, tokenizer, model_bert, CNN):\n",
        "  \n",
        "  for text in review_text:\n",
        "    encoded_review = tokenizer.encode_plus(text, max_length=100, add_special_tokens=True, return_token_type_ids=False, \n",
        "                                        pad_to_max_length=True, return_attention_mask=True, return_tensors='pt')\n",
        "\n",
        "    input_ids = encoded_review['input_ids']\n",
        "    attention_mask = encoded_review['attention_mask']\n",
        "    with torch.no_grad():\n",
        "      last_hidden_states = model_bert(input_ids, attention_mask = attention_mask)\n",
        "\n",
        "    output = CNN(last_hidden_states[0].to(device))\n",
        "    _, prediction = torch.max(output.unsqueeze(0), dim=1)\n",
        "    \n",
        "    print(f'Review text: {text}')\n",
        "    print(f'Sentiment  : {class_names[prediction]}')\n",
        "    print()"
      ],
      "execution_count": null,
      "outputs": []
    },
    {
      "cell_type": "code",
      "metadata": {
        "id": "z5mJQLl1hSQV",
        "colab_type": "code",
        "colab": {
          "base_uri": "https://localhost:8080/",
          "height": 302
        },
        "outputId": "671aab34-7ebd-40fc-f9bb-afc4dceded36"
      },
      "source": [
        "print('English Predict')\n",
        "print()\n",
        "text_eng = ['it was the most terrible camera in my life!', \n",
        "            'I love completing my todos! Best app ever!!!', \n",
        "            'The best movie I’ve ever seen!!! Musical composition, actors, scenario, etc. all this stuff are just amazing!!!',\n",
        "            'This film made me upset. It’s just taking your free time and throwing it in a trash (((',\n",
        "            'ipone is a phone']\n",
        "\n",
        "predict_for_new(text_eng, tokenizer, model_bert, CNN_eng)"
      ],
      "execution_count": null,
      "outputs": [
        {
          "output_type": "stream",
          "text": [
            "English Predict\n",
            "\n",
            "Review text: it was the most terrible camera in my life!\n",
            "Sentiment  : negative\n",
            "\n",
            "Review text: I love completing my todos! Best app ever!!!\n",
            "Sentiment  : positive\n",
            "\n",
            "Review text: The best movie I’ve ever seen!!! Musical composition, actors, scenario, etc. all this stuff are just amazing!!!\n",
            "Sentiment  : positive\n",
            "\n",
            "Review text: This film made me upset. It’s just taking your free time and throwing it in a trash (((\n",
            "Sentiment  : negative\n",
            "\n",
            "Review text: ipone is a phone\n",
            "Sentiment  : neutral\n",
            "\n"
          ],
          "name": "stdout"
        }
      ]
    },
    {
      "cell_type": "code",
      "metadata": {
        "id": "qCgrmjmahlgo",
        "colab_type": "code",
        "colab": {
          "base_uri": "https://localhost:8080/",
          "height": 286
        },
        "outputId": "37bf7277-194a-49bd-e128-c1777fb98a51"
      },
      "source": [
        "print('Russian Predict')\n",
        "text_rus = ['Ого... Отличное место.', \n",
        "            'это качественный телефон?', \n",
        "            'худший фильм который я видела',\n",
        "            'ужасное качество фотографий!',\n",
        "            'Корочка так себе.']\n",
        "\n",
        "predict_for_new(text_rus, tokenizer_rus, model_bert_rus, CNN_rus)"
      ],
      "execution_count": null,
      "outputs": [
        {
          "output_type": "stream",
          "text": [
            "Russian Predict\n",
            "Review text: Ого... Отличное место.\n",
            "Sentiment  : negative\n",
            "\n",
            "Review text: это качественный телефон?\n",
            "Sentiment  : negative\n",
            "\n",
            "Review text: худший фильм который я видела\n",
            "Sentiment  : negative\n",
            "\n",
            "Review text: ужасное качество фотографий!\n",
            "Sentiment  : negative\n",
            "\n",
            "Review text: Корочка так себе.\n",
            "Sentiment  : negative\n",
            "\n"
          ],
          "name": "stdout"
        }
      ]
    },
    {
      "cell_type": "markdown",
      "metadata": {
        "id": "rkLyiPOvq--e",
        "colab_type": "text"
      },
      "source": [
        "## Baseline Models"
      ]
    },
    {
      "cell_type": "code",
      "metadata": {
        "id": "lV3QsN-fbK8n",
        "colab_type": "code",
        "colab": {}
      },
      "source": [
        "from sklearn.linear_model import LogisticRegression\n",
        "from sklearn.ensemble import RandomForestClassifier\n",
        "from sklearn.model_selection import GridSearchCV\n",
        "from sklearn.svm import SVC"
      ],
      "execution_count": null,
      "outputs": []
    },
    {
      "cell_type": "code",
      "metadata": {
        "id": "aV62z8xLZvB7",
        "colab_type": "code",
        "colab": {}
      },
      "source": [
        "def report_baseline(X_train, y_train, X_test, y_test, model):\n",
        "\n",
        "  if model == 'LogisticRegression':\n",
        "    clf = LogisticRegression(multi_class = 'multinomial', random_state = 42)\n",
        "    clf.fit(X_train[:, 0, :], y_train)\n",
        "\n",
        "  elif model == 'RandomForestClassifier':\n",
        "    clf = RandomForestClassifier(n_estimators = 10, criterion = 'entropy', random_state = 42)\n",
        "    clf.fit(X_train[:, 0, :], y_train)\n",
        "\n",
        "  else:\n",
        "    params_grid = [{'kernel': ['rbf'], 'gamma': 1e-3, 'C': 100}]\n",
        "\n",
        "    clf = SVC(kernel = 'rbf', gamma = 1e-3, C = 100)\n",
        "    clf.fit(X_train[:, 0, :], y_train)\n",
        "\n",
        "  return classification_report(clf.predict(X_test[:, 0, :]), y_test)"
      ],
      "execution_count": null,
      "outputs": []
    },
    {
      "cell_type": "markdown",
      "metadata": {
        "id": "Y_v77kV3t2FL",
        "colab_type": "text"
      },
      "source": [
        "### Logistic Regression"
      ]
    },
    {
      "cell_type": "code",
      "metadata": {
        "id": "Gcdfbb54ZL6k",
        "colab_type": "code",
        "colab": {
          "base_uri": "https://localhost:8080/",
          "height": 185
        },
        "outputId": "761be1e3-2aa0-4f14-a94e-ce6a5256aed8"
      },
      "source": [
        "print(report_baseline(eng_X_train, eng_y_train, eng_X_test, eng_y_test, 'LogisticRegression'))"
      ],
      "execution_count": null,
      "outputs": [
        {
          "output_type": "stream",
          "text": [
            "              precision    recall  f1-score   support\n",
            "\n",
            "           0       0.72      0.73      0.73        83\n",
            "           1       0.56      0.45      0.50        22\n",
            "           2       0.83      0.84      0.83       137\n",
            "\n",
            "    accuracy                           0.77       242\n",
            "   macro avg       0.70      0.68      0.69       242\n",
            "weighted avg       0.77      0.77      0.77       242\n",
            "\n"
          ],
          "name": "stdout"
        }
      ]
    },
    {
      "cell_type": "code",
      "metadata": {
        "id": "U94Bb9mzZMFe",
        "colab_type": "code",
        "colab": {
          "base_uri": "https://localhost:8080/",
          "height": 185
        },
        "outputId": "b3e96a8f-cc7d-46d3-93aa-8a3886788663"
      },
      "source": [
        "print(report_baseline(rus_X_train, rus_y_train, rus_X_test, rus_y_test, 'LogisticRegression'))"
      ],
      "execution_count": null,
      "outputs": [
        {
          "output_type": "stream",
          "text": [
            "              precision    recall  f1-score   support\n",
            "\n",
            "           0       0.38      0.45      0.42       121\n",
            "           1       0.61      0.60      0.60       156\n",
            "           2       0.64      0.55      0.59       143\n",
            "\n",
            "    accuracy                           0.54       420\n",
            "   macro avg       0.54      0.53      0.54       420\n",
            "weighted avg       0.55      0.54      0.55       420\n",
            "\n"
          ],
          "name": "stdout"
        }
      ]
    },
    {
      "cell_type": "markdown",
      "metadata": {
        "id": "KFdb8PpQt7Ag",
        "colab_type": "text"
      },
      "source": [
        "### Random Forest Classifier"
      ]
    },
    {
      "cell_type": "code",
      "metadata": {
        "id": "ciE6F4JDZlLP",
        "colab_type": "code",
        "colab": {
          "base_uri": "https://localhost:8080/",
          "height": 185
        },
        "outputId": "8f1240f1-cfd3-4342-877b-8a6357c14c25"
      },
      "source": [
        "print(report_baseline(eng_X_train, eng_y_train, eng_X_test, eng_y_test, 'RandomForestClassifier'))"
      ],
      "execution_count": null,
      "outputs": [
        {
          "output_type": "stream",
          "text": [
            "              precision    recall  f1-score   support\n",
            "\n",
            "           0       0.69      0.66      0.68        89\n",
            "           1       0.22      0.57      0.32         7\n",
            "           2       0.81      0.77      0.79       146\n",
            "\n",
            "    accuracy                           0.73       242\n",
            "   macro avg       0.58      0.67      0.60       242\n",
            "weighted avg       0.75      0.73      0.74       242\n",
            "\n"
          ],
          "name": "stdout"
        }
      ]
    },
    {
      "cell_type": "code",
      "metadata": {
        "id": "UfX7f1SkZlWL",
        "colab_type": "code",
        "colab": {
          "base_uri": "https://localhost:8080/",
          "height": 185
        },
        "outputId": "110d3a7b-f54a-4e1f-9d76-642a81c4e3d0"
      },
      "source": [
        "print(report_baseline(rus_X_train, rus_y_train, rus_X_test, rus_y_test, 'RandomForestClassifier'))"
      ],
      "execution_count": null,
      "outputs": [
        {
          "output_type": "stream",
          "text": [
            "              precision    recall  f1-score   support\n",
            "\n",
            "           0       0.47      0.40      0.43       170\n",
            "           1       0.35      0.48      0.41       115\n",
            "           2       0.48      0.43      0.45       135\n",
            "\n",
            "    accuracy                           0.43       420\n",
            "   macro avg       0.44      0.44      0.43       420\n",
            "weighted avg       0.44      0.43      0.43       420\n",
            "\n"
          ],
          "name": "stdout"
        }
      ]
    },
    {
      "cell_type": "markdown",
      "metadata": {
        "id": "m46JGboNuBT4",
        "colab_type": "text"
      },
      "source": [
        "### Support Vector Machine"
      ]
    },
    {
      "cell_type": "code",
      "metadata": {
        "id": "XgB9C6IpbilC",
        "colab_type": "code",
        "colab": {
          "base_uri": "https://localhost:8080/",
          "height": 185
        },
        "outputId": "60a46a2e-9dfc-42ea-c301-f1b528519ed7"
      },
      "source": [
        "print(report_baseline(eng_X_train, eng_y_train, eng_X_test, eng_y_test, 'SVM'))"
      ],
      "execution_count": null,
      "outputs": [
        {
          "output_type": "stream",
          "text": [
            "              precision    recall  f1-score   support\n",
            "\n",
            "           0       0.78      0.74      0.76        89\n",
            "           1       0.56      0.43      0.49        23\n",
            "           2       0.79      0.85      0.82       130\n",
            "\n",
            "    accuracy                           0.77       242\n",
            "   macro avg       0.71      0.67      0.69       242\n",
            "weighted avg       0.76      0.77      0.76       242\n",
            "\n"
          ],
          "name": "stdout"
        }
      ]
    },
    {
      "cell_type": "code",
      "metadata": {
        "id": "9NNb_BwWxSv3",
        "colab_type": "code",
        "colab": {
          "base_uri": "https://localhost:8080/",
          "height": 185
        },
        "outputId": "20ccb7db-cc01-49f6-f6c6-cc3a46ce0e3f"
      },
      "source": [
        "print(report_baseline(rus_X_train, rus_y_train, rus_X_test, rus_y_test, 'SVM'))"
      ],
      "execution_count": null,
      "outputs": [
        {
          "output_type": "stream",
          "text": [
            "              precision    recall  f1-score   support\n",
            "\n",
            "           0       0.33      0.51      0.40        94\n",
            "           1       0.63      0.60      0.61       162\n",
            "           2       0.71      0.52      0.60       164\n",
            "\n",
            "    accuracy                           0.55       420\n",
            "   macro avg       0.56      0.54      0.54       420\n",
            "weighted avg       0.59      0.55      0.56       420\n",
            "\n"
          ],
          "name": "stdout"
        }
      ]
    }
  ]
}